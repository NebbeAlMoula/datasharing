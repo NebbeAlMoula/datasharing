{
  "nbformat": 4,
  "nbformat_minor": 0,
  "metadata": {
    "colab": {
      "provenance": [],
      "collapsed_sections": [
        "HkJrdvXaMn7h",
        "4BWAHEX-7eao",
        "ZBREeA1TdTm8",
        "o2lG9Gz1CmYA",
        "KDWVqNwdfwVK",
        "FTMkCMAecbSc"
      ],
      "toc_visible": true,
      "include_colab_link": true
    },
    "kernelspec": {
      "display_name": "Python 3",
      "name": "python3"
    },
    "widgets": {
      "application/vnd.jupyter.widget-state+json": {
        "4e4038b110fe47119d77f2bcea7ec8b4": {
          "model_module": "@jupyter-widgets/controls",
          "model_name": "VBoxModel",
          "model_module_version": "1.5.0",
          "state": {
            "_dom_classes": [
              "widget-interact"
            ],
            "_model_module": "@jupyter-widgets/controls",
            "_model_module_version": "1.5.0",
            "_model_name": "VBoxModel",
            "_view_count": null,
            "_view_module": "@jupyter-widgets/controls",
            "_view_module_version": "1.5.0",
            "_view_name": "VBoxView",
            "box_style": "",
            "children": [
              "IPY_MODEL_bd7a6767feee478bbba836801cb6d6fb",
              "IPY_MODEL_d00f5f987d5a41bea4a0b343650f4c72"
            ],
            "layout": "IPY_MODEL_f93b5ff517d14c758844b24866d75c83"
          }
        },
        "bd7a6767feee478bbba836801cb6d6fb": {
          "model_module": "@jupyter-widgets/controls",
          "model_name": "FloatSliderModel",
          "model_module_version": "1.5.0",
          "state": {
            "_dom_classes": [],
            "_model_module": "@jupyter-widgets/controls",
            "_model_module_version": "1.5.0",
            "_model_name": "FloatSliderModel",
            "_view_count": null,
            "_view_module": "@jupyter-widgets/controls",
            "_view_module_version": "1.5.0",
            "_view_name": "FloatSliderView",
            "continuous_update": true,
            "description": "V",
            "description_tooltip": null,
            "disabled": false,
            "layout": "IPY_MODEL_2e224393b5b247ae8bf84bd55bd96e4e",
            "max": 10,
            "min": -100,
            "orientation": "horizontal",
            "readout": true,
            "readout_format": ".2f",
            "step": 0.1,
            "style": "IPY_MODEL_7b701385831d41a0850d26a43de518ae",
            "value": -45
          }
        },
        "d00f5f987d5a41bea4a0b343650f4c72": {
          "model_module": "@jupyter-widgets/output",
          "model_name": "OutputModel",
          "model_module_version": "1.0.0",
          "state": {
            "_dom_classes": [],
            "_model_module": "@jupyter-widgets/output",
            "_model_module_version": "1.0.0",
            "_model_name": "OutputModel",
            "_view_count": null,
            "_view_module": "@jupyter-widgets/output",
            "_view_module_version": "1.0.0",
            "_view_name": "OutputView",
            "layout": "IPY_MODEL_2a728dd015c741f0872f5aa993bc4b28",
            "msg_id": "",
            "outputs": [
              {
                "output_type": "stream",
                "name": "stderr",
                "text": [
                  "WARNING    'v' is an internal variable of group 'neurongroup', but also exists in the run namespace with the value array([-100.,  -99.,  -98., ...,   97.,   98.,   99.]). The internal variable will be used. [brian2.groups.group.Group.resolve.resolution_conflict]\n"
                ]
              },
              {
                "output_type": "display_data",
                "data": {
                  "text/plain": "<Figure size 432x288 with 1 Axes>",
                  "image/png": "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\n"
                },
                "metadata": {
                  "needs_background": "light"
                }
              }
            ]
          }
        },
        "f93b5ff517d14c758844b24866d75c83": {
          "model_module": "@jupyter-widgets/base",
          "model_name": "LayoutModel",
          "model_module_version": "1.2.0",
          "state": {
            "_model_module": "@jupyter-widgets/base",
            "_model_module_version": "1.2.0",
            "_model_name": "LayoutModel",
            "_view_count": null,
            "_view_module": "@jupyter-widgets/base",
            "_view_module_version": "1.2.0",
            "_view_name": "LayoutView",
            "align_content": null,
            "align_items": null,
            "align_self": null,
            "border": null,
            "bottom": null,
            "display": null,
            "flex": null,
            "flex_flow": null,
            "grid_area": null,
            "grid_auto_columns": null,
            "grid_auto_flow": null,
            "grid_auto_rows": null,
            "grid_column": null,
            "grid_gap": null,
            "grid_row": null,
            "grid_template_areas": null,
            "grid_template_columns": null,
            "grid_template_rows": null,
            "height": null,
            "justify_content": null,
            "justify_items": null,
            "left": null,
            "margin": null,
            "max_height": null,
            "max_width": null,
            "min_height": null,
            "min_width": null,
            "object_fit": null,
            "object_position": null,
            "order": null,
            "overflow": null,
            "overflow_x": null,
            "overflow_y": null,
            "padding": null,
            "right": null,
            "top": null,
            "visibility": null,
            "width": null
          }
        },
        "2e224393b5b247ae8bf84bd55bd96e4e": {
          "model_module": "@jupyter-widgets/base",
          "model_name": "LayoutModel",
          "model_module_version": "1.2.0",
          "state": {
            "_model_module": "@jupyter-widgets/base",
            "_model_module_version": "1.2.0",
            "_model_name": "LayoutModel",
            "_view_count": null,
            "_view_module": "@jupyter-widgets/base",
            "_view_module_version": "1.2.0",
            "_view_name": "LayoutView",
            "align_content": null,
            "align_items": null,
            "align_self": null,
            "border": null,
            "bottom": null,
            "display": null,
            "flex": null,
            "flex_flow": null,
            "grid_area": null,
            "grid_auto_columns": null,
            "grid_auto_flow": null,
            "grid_auto_rows": null,
            "grid_column": null,
            "grid_gap": null,
            "grid_row": null,
            "grid_template_areas": null,
            "grid_template_columns": null,
            "grid_template_rows": null,
            "height": null,
            "justify_content": null,
            "justify_items": null,
            "left": null,
            "margin": null,
            "max_height": null,
            "max_width": null,
            "min_height": null,
            "min_width": null,
            "object_fit": null,
            "object_position": null,
            "order": null,
            "overflow": null,
            "overflow_x": null,
            "overflow_y": null,
            "padding": null,
            "right": null,
            "top": null,
            "visibility": null,
            "width": null
          }
        },
        "7b701385831d41a0850d26a43de518ae": {
          "model_module": "@jupyter-widgets/controls",
          "model_name": "SliderStyleModel",
          "model_module_version": "1.5.0",
          "state": {
            "_model_module": "@jupyter-widgets/controls",
            "_model_module_version": "1.5.0",
            "_model_name": "SliderStyleModel",
            "_view_count": null,
            "_view_module": "@jupyter-widgets/base",
            "_view_module_version": "1.2.0",
            "_view_name": "StyleView",
            "description_width": "",
            "handle_color": null
          }
        },
        "2a728dd015c741f0872f5aa993bc4b28": {
          "model_module": "@jupyter-widgets/base",
          "model_name": "LayoutModel",
          "model_module_version": "1.2.0",
          "state": {
            "_model_module": "@jupyter-widgets/base",
            "_model_module_version": "1.2.0",
            "_model_name": "LayoutModel",
            "_view_count": null,
            "_view_module": "@jupyter-widgets/base",
            "_view_module_version": "1.2.0",
            "_view_name": "LayoutView",
            "align_content": null,
            "align_items": null,
            "align_self": null,
            "border": null,
            "bottom": null,
            "display": null,
            "flex": null,
            "flex_flow": null,
            "grid_area": null,
            "grid_auto_columns": null,
            "grid_auto_flow": null,
            "grid_auto_rows": null,
            "grid_column": null,
            "grid_gap": null,
            "grid_row": null,
            "grid_template_areas": null,
            "grid_template_columns": null,
            "grid_template_rows": null,
            "height": null,
            "justify_content": null,
            "justify_items": null,
            "left": null,
            "margin": null,
            "max_height": null,
            "max_width": null,
            "min_height": null,
            "min_width": null,
            "object_fit": null,
            "object_position": null,
            "order": null,
            "overflow": null,
            "overflow_x": null,
            "overflow_y": null,
            "padding": null,
            "right": null,
            "top": null,
            "visibility": null,
            "width": null
          }
        },
        "1e114c0b4128447aac57353cc2f40bf7": {
          "model_module": "@jupyter-widgets/controls",
          "model_name": "VBoxModel",
          "model_module_version": "1.5.0",
          "state": {
            "_dom_classes": [
              "widget-interact"
            ],
            "_model_module": "@jupyter-widgets/controls",
            "_model_module_version": "1.5.0",
            "_model_name": "VBoxModel",
            "_view_count": null,
            "_view_module": "@jupyter-widgets/controls",
            "_view_module_version": "1.5.0",
            "_view_name": "VBoxView",
            "box_style": "",
            "children": [
              "IPY_MODEL_8ba7e4cb66434f989554cd9cc09e8ab1",
              "IPY_MODEL_c3cf7ac70a06449687ef65344eaf9a1c",
              "IPY_MODEL_c9173f82bda747afb833b4997b98ab4a",
              "IPY_MODEL_660d9d7d5e0146cc80584443425c5ca6"
            ],
            "layout": "IPY_MODEL_728ca262e7754af1846880e900335a33"
          }
        },
        "8ba7e4cb66434f989554cd9cc09e8ab1": {
          "model_module": "@jupyter-widgets/controls",
          "model_name": "FloatSliderModel",
          "model_module_version": "1.5.0",
          "state": {
            "_dom_classes": [],
            "_model_module": "@jupyter-widgets/controls",
            "_model_module_version": "1.5.0",
            "_model_name": "FloatSliderModel",
            "_view_count": null,
            "_view_module": "@jupyter-widgets/controls",
            "_view_module_version": "1.5.0",
            "_view_name": "FloatSliderView",
            "continuous_update": true,
            "description": "C_m",
            "description_tooltip": null,
            "disabled": false,
            "layout": "IPY_MODEL_bf21cc90246245f2a480c8c7a4c025d1",
            "max": 10,
            "min": 0.1,
            "orientation": "horizontal",
            "readout": true,
            "readout_format": ".2f",
            "step": 0.1,
            "style": "IPY_MODEL_362a1f2724484fc4ae78e36b1113dbdc",
            "value": 5.05
          }
        },
        "c3cf7ac70a06449687ef65344eaf9a1c": {
          "model_module": "@jupyter-widgets/controls",
          "model_name": "FloatSliderModel",
          "model_module_version": "1.5.0",
          "state": {
            "_dom_classes": [],
            "_model_module": "@jupyter-widgets/controls",
            "_model_module_version": "1.5.0",
            "_model_name": "FloatSliderModel",
            "_view_count": null,
            "_view_module": "@jupyter-widgets/controls",
            "_view_module_version": "1.5.0",
            "_view_name": "FloatSliderView",
            "continuous_update": true,
            "description": "g_leak",
            "description_tooltip": null,
            "disabled": false,
            "layout": "IPY_MODEL_ab2444e379b54dc4b906c543611f1a04",
            "max": 1,
            "min": 0,
            "orientation": "horizontal",
            "readout": true,
            "readout_format": ".2f",
            "step": 0.1,
            "style": "IPY_MODEL_e14330e2a3464498a1b4170034c4363b",
            "value": 0.5
          }
        },
        "c9173f82bda747afb833b4997b98ab4a": {
          "model_module": "@jupyter-widgets/controls",
          "model_name": "FloatSliderModel",
          "model_module_version": "1.5.0",
          "state": {
            "_dom_classes": [],
            "_model_module": "@jupyter-widgets/controls",
            "_model_module_version": "1.5.0",
            "_model_name": "FloatSliderModel",
            "_view_count": null,
            "_view_module": "@jupyter-widgets/controls",
            "_view_module_version": "1.5.0",
            "_view_name": "FloatSliderView",
            "continuous_update": true,
            "description": "I",
            "description_tooltip": null,
            "disabled": false,
            "layout": "IPY_MODEL_543882f1fb934e0788492ce5bd8ecc34",
            "max": 1,
            "min": -1,
            "orientation": "horizontal",
            "readout": true,
            "readout_format": ".2f",
            "step": 0.1,
            "style": "IPY_MODEL_c199b61079314998840a037249ca5606",
            "value": 0.2
          }
        },
        "660d9d7d5e0146cc80584443425c5ca6": {
          "model_module": "@jupyter-widgets/output",
          "model_name": "OutputModel",
          "model_module_version": "1.0.0",
          "state": {
            "_dom_classes": [],
            "_model_module": "@jupyter-widgets/output",
            "_model_module_version": "1.0.0",
            "_model_name": "OutputModel",
            "_view_count": null,
            "_view_module": "@jupyter-widgets/output",
            "_view_module_version": "1.0.0",
            "_view_name": "OutputView",
            "layout": "IPY_MODEL_98b3c9f510334270a02f318a5dcb1ae0",
            "msg_id": "",
            "outputs": []
          }
        },
        "728ca262e7754af1846880e900335a33": {
          "model_module": "@jupyter-widgets/base",
          "model_name": "LayoutModel",
          "model_module_version": "1.2.0",
          "state": {
            "_model_module": "@jupyter-widgets/base",
            "_model_module_version": "1.2.0",
            "_model_name": "LayoutModel",
            "_view_count": null,
            "_view_module": "@jupyter-widgets/base",
            "_view_module_version": "1.2.0",
            "_view_name": "LayoutView",
            "align_content": null,
            "align_items": null,
            "align_self": null,
            "border": null,
            "bottom": null,
            "display": null,
            "flex": null,
            "flex_flow": null,
            "grid_area": null,
            "grid_auto_columns": null,
            "grid_auto_flow": null,
            "grid_auto_rows": null,
            "grid_column": null,
            "grid_gap": null,
            "grid_row": null,
            "grid_template_areas": null,
            "grid_template_columns": null,
            "grid_template_rows": null,
            "height": null,
            "justify_content": null,
            "justify_items": null,
            "left": null,
            "margin": null,
            "max_height": null,
            "max_width": null,
            "min_height": null,
            "min_width": null,
            "object_fit": null,
            "object_position": null,
            "order": null,
            "overflow": null,
            "overflow_x": null,
            "overflow_y": null,
            "padding": null,
            "right": null,
            "top": null,
            "visibility": null,
            "width": null
          }
        },
        "bf21cc90246245f2a480c8c7a4c025d1": {
          "model_module": "@jupyter-widgets/base",
          "model_name": "LayoutModel",
          "model_module_version": "1.2.0",
          "state": {
            "_model_module": "@jupyter-widgets/base",
            "_model_module_version": "1.2.0",
            "_model_name": "LayoutModel",
            "_view_count": null,
            "_view_module": "@jupyter-widgets/base",
            "_view_module_version": "1.2.0",
            "_view_name": "LayoutView",
            "align_content": null,
            "align_items": null,
            "align_self": null,
            "border": null,
            "bottom": null,
            "display": null,
            "flex": null,
            "flex_flow": null,
            "grid_area": null,
            "grid_auto_columns": null,
            "grid_auto_flow": null,
            "grid_auto_rows": null,
            "grid_column": null,
            "grid_gap": null,
            "grid_row": null,
            "grid_template_areas": null,
            "grid_template_columns": null,
            "grid_template_rows": null,
            "height": null,
            "justify_content": null,
            "justify_items": null,
            "left": null,
            "margin": null,
            "max_height": null,
            "max_width": null,
            "min_height": null,
            "min_width": null,
            "object_fit": null,
            "object_position": null,
            "order": null,
            "overflow": null,
            "overflow_x": null,
            "overflow_y": null,
            "padding": null,
            "right": null,
            "top": null,
            "visibility": null,
            "width": null
          }
        },
        "362a1f2724484fc4ae78e36b1113dbdc": {
          "model_module": "@jupyter-widgets/controls",
          "model_name": "SliderStyleModel",
          "model_module_version": "1.5.0",
          "state": {
            "_model_module": "@jupyter-widgets/controls",
            "_model_module_version": "1.5.0",
            "_model_name": "SliderStyleModel",
            "_view_count": null,
            "_view_module": "@jupyter-widgets/base",
            "_view_module_version": "1.2.0",
            "_view_name": "StyleView",
            "description_width": "",
            "handle_color": null
          }
        },
        "ab2444e379b54dc4b906c543611f1a04": {
          "model_module": "@jupyter-widgets/base",
          "model_name": "LayoutModel",
          "model_module_version": "1.2.0",
          "state": {
            "_model_module": "@jupyter-widgets/base",
            "_model_module_version": "1.2.0",
            "_model_name": "LayoutModel",
            "_view_count": null,
            "_view_module": "@jupyter-widgets/base",
            "_view_module_version": "1.2.0",
            "_view_name": "LayoutView",
            "align_content": null,
            "align_items": null,
            "align_self": null,
            "border": null,
            "bottom": null,
            "display": null,
            "flex": null,
            "flex_flow": null,
            "grid_area": null,
            "grid_auto_columns": null,
            "grid_auto_flow": null,
            "grid_auto_rows": null,
            "grid_column": null,
            "grid_gap": null,
            "grid_row": null,
            "grid_template_areas": null,
            "grid_template_columns": null,
            "grid_template_rows": null,
            "height": null,
            "justify_content": null,
            "justify_items": null,
            "left": null,
            "margin": null,
            "max_height": null,
            "max_width": null,
            "min_height": null,
            "min_width": null,
            "object_fit": null,
            "object_position": null,
            "order": null,
            "overflow": null,
            "overflow_x": null,
            "overflow_y": null,
            "padding": null,
            "right": null,
            "top": null,
            "visibility": null,
            "width": null
          }
        },
        "e14330e2a3464498a1b4170034c4363b": {
          "model_module": "@jupyter-widgets/controls",
          "model_name": "SliderStyleModel",
          "model_module_version": "1.5.0",
          "state": {
            "_model_module": "@jupyter-widgets/controls",
            "_model_module_version": "1.5.0",
            "_model_name": "SliderStyleModel",
            "_view_count": null,
            "_view_module": "@jupyter-widgets/base",
            "_view_module_version": "1.2.0",
            "_view_name": "StyleView",
            "description_width": "",
            "handle_color": null
          }
        },
        "543882f1fb934e0788492ce5bd8ecc34": {
          "model_module": "@jupyter-widgets/base",
          "model_name": "LayoutModel",
          "model_module_version": "1.2.0",
          "state": {
            "_model_module": "@jupyter-widgets/base",
            "_model_module_version": "1.2.0",
            "_model_name": "LayoutModel",
            "_view_count": null,
            "_view_module": "@jupyter-widgets/base",
            "_view_module_version": "1.2.0",
            "_view_name": "LayoutView",
            "align_content": null,
            "align_items": null,
            "align_self": null,
            "border": null,
            "bottom": null,
            "display": null,
            "flex": null,
            "flex_flow": null,
            "grid_area": null,
            "grid_auto_columns": null,
            "grid_auto_flow": null,
            "grid_auto_rows": null,
            "grid_column": null,
            "grid_gap": null,
            "grid_row": null,
            "grid_template_areas": null,
            "grid_template_columns": null,
            "grid_template_rows": null,
            "height": null,
            "justify_content": null,
            "justify_items": null,
            "left": null,
            "margin": null,
            "max_height": null,
            "max_width": null,
            "min_height": null,
            "min_width": null,
            "object_fit": null,
            "object_position": null,
            "order": null,
            "overflow": null,
            "overflow_x": null,
            "overflow_y": null,
            "padding": null,
            "right": null,
            "top": null,
            "visibility": null,
            "width": null
          }
        },
        "c199b61079314998840a037249ca5606": {
          "model_module": "@jupyter-widgets/controls",
          "model_name": "SliderStyleModel",
          "model_module_version": "1.5.0",
          "state": {
            "_model_module": "@jupyter-widgets/controls",
            "_model_module_version": "1.5.0",
            "_model_name": "SliderStyleModel",
            "_view_count": null,
            "_view_module": "@jupyter-widgets/base",
            "_view_module_version": "1.2.0",
            "_view_name": "StyleView",
            "description_width": "",
            "handle_color": null
          }
        },
        "98b3c9f510334270a02f318a5dcb1ae0": {
          "model_module": "@jupyter-widgets/base",
          "model_name": "LayoutModel",
          "model_module_version": "1.2.0",
          "state": {
            "_model_module": "@jupyter-widgets/base",
            "_model_module_version": "1.2.0",
            "_model_name": "LayoutModel",
            "_view_count": null,
            "_view_module": "@jupyter-widgets/base",
            "_view_module_version": "1.2.0",
            "_view_name": "LayoutView",
            "align_content": null,
            "align_items": null,
            "align_self": null,
            "border": null,
            "bottom": null,
            "display": null,
            "flex": null,
            "flex_flow": null,
            "grid_area": null,
            "grid_auto_columns": null,
            "grid_auto_flow": null,
            "grid_auto_rows": null,
            "grid_column": null,
            "grid_gap": null,
            "grid_row": null,
            "grid_template_areas": null,
            "grid_template_columns": null,
            "grid_template_rows": null,
            "height": null,
            "justify_content": null,
            "justify_items": null,
            "left": null,
            "margin": null,
            "max_height": null,
            "max_width": null,
            "min_height": null,
            "min_width": null,
            "object_fit": null,
            "object_position": null,
            "order": null,
            "overflow": null,
            "overflow_x": null,
            "overflow_y": null,
            "padding": null,
            "right": null,
            "top": null,
            "visibility": null,
            "width": null
          }
        }
      }
    }
  },
  "cells": [
    {
      "cell_type": "markdown",
      "metadata": {
        "id": "view-in-github",
        "colab_type": "text"
      },
      "source": [
        "<a href=\"https://colab.research.google.com/github/NebbeAlMoula/datasharing/blob/master/Kopie_van_%5Bsolutions%5D_DYI_Neuron_Model_Part_1.ipynb\" target=\"_parent\"><img src=\"https://colab.research.google.com/assets/colab-badge.svg\" alt=\"Open In Colab\"/></a>"
      ]
    },
    {
      "cell_type": "markdown",
      "metadata": {
        "id": "B287VpGfYWG9"
      },
      "source": [
        "# To be able to edit and use this Notebook:\n",
        "\n",
        "0. Learn about how to use google colaboratory [video](https://www.youtube.com/watch?v=inN8seMm7UI)\n",
        "1. in the ```File``` menu (top left), click ```open in playground```\n",
        "3. still in the ```File``` menu, click ```save copy in drive```, to make your own personalized and editable copy of this file. Alternatively you can ```open in playground mode```\n",
        "4. edit as you like. If something breaks irreparably, either:\n",
        "  1. restart the ```Runtime```\n",
        "  2. or go back to step 1.\n"
      ]
    },
    {
      "cell_type": "markdown",
      "metadata": {
        "id": "43TskcthQiMg"
      },
      "source": [
        "# Project 1: A DIY Neuron Model\n",
        "\n"
      ]
    },
    {
      "cell_type": "markdown",
      "metadata": {
        "id": "t4I9GWWuw77P"
      },
      "source": [
        "### The Hodgkin Huxley Model:\n",
        "The origin of the action potential was a mystery to early neuroscientists when Hodgkin and Huxley proposed their model in 1952. Aided by the voltage clamp technique, and the persuasion that they could model the physics of the neuron as an electrical circuit, they set out to understand the mechanism underlying the generation of the action potential. In their [concluding paper](https://www.ncbi.nlm.nih.gov/pmc/articles/PMC1392413/pdf/jphysiol01442-0106.pdf) in 1952, they formulated the mathematical framework most often used in computational neuroscience. Many fundamental building blocks in modelling excitable cells were laid down in this framework, which is of foundational importance to date.\n",
        "\n",
        "\n"
      ]
    },
    {
      "cell_type": "markdown",
      "metadata": {
        "id": "JWxy67mxS8iW"
      },
      "source": [
        "<!-- ### Previous Project:\n",
        "In the previous project, you have learned that:\n",
        "- individual ions lead to individual **equilibrium potentials** or **Nernst** potential.\n",
        "- when different ion concentrations exist inside and outside the cell, the cells settles in a ***resting potential***, which is given by the weighted average of the different conductances. -->\n",
        "\n",
        "### In this Project:\n",
        "You will synthetize the **Hodgkin Huxley model of action potential** piece by piece. We will be building understanding as we present the components of the model along with with some simulated experiments (using the 'brian2' simulator), sample code and simple coding exercises. We begin by describing the **passive properties** of the membrane (leak and capacitance) then introduce the **active** components and the **voltage gated** ion channels. In the second part of the project we will examine the completed Hodgkin Huxley model and conduct some experiements using the model.\n",
        "\n",
        "Questions during the project are designed as self-evaluation (for you to test your own comprehension). If you have doubts about particular answers, ask your neighbor, your TA or your professor (in that order).\n",
        "\n",
        "### The landmarks in the road map:\n",
        "\n",
        "1. (Project 0) The electrical potential across membrane is due to differences in chemical concentration.\n",
        "2. The membrane potential is altered by flux of ions across the membrane via ion channels.\n",
        "3. Membrane permeability to different ions varies as a function of the membrane potential (active channels).\n",
        "4. Positive feedback creates an accelerating rise of positive currents due to sodium channels.\n",
        "5. High membrane potential actives potassium channels (a negative feedback).\n",
        "6. Spikes are due to the different time scales of ion permeability."
      ]
    },
    {
      "cell_type": "code",
      "source": [],
      "metadata": {
        "id": "9DB0FyslHT9B"
      },
      "execution_count": null,
      "outputs": []
    },
    {
      "cell_type": "markdown",
      "metadata": {
        "id": "dibGcKwuhV6O"
      },
      "source": [
        "# Key Terms"
      ]
    },
    {
      "cell_type": "markdown",
      "metadata": {
        "id": "GQN4DZfLhaXV"
      },
      "source": [
        "\n",
        "- **Permeability**. How easy it is for an ion to cross the membrane. Plastic is 'impermeable to water'. Expressed as a propotionality. It is proportional to the number of open channels on the membrane for an ion. Commonly expressed as relative permeability of the ion channels compared to one another.\n",
        "- **Current, _I_**. A flow of electric charge. Measured in amperes ($\\mathbf{A}$). Commonly seen also as a current density ($\\mu A/cm^2$)\n",
        "- **Capacitance, _C_**. How well a material can *store* charge. Measured in farads ($\\mathbf{F}$).\n",
        "- **Resistance, _R_**. A measure of the opposition to the flow of charge (current).  Measured in ohms ($\\mathbf{Ω}$).\n",
        "- **Conductance, _g_**. The reciprocal of resistance (1/R), measures how easily the electricity flows through parts of the circuit for a given difference in voltage. Is an electrical property and is influenced by permeability. It is measured in Siemens (‎$S‎ = Ω^{-1} $). It often appears as a density ($mS/cm^2$).\n",
        "- **Ion Channels**. Pores through the membrane that allow for selective permeability of different ion types. There are 'active' and 'passive' ion channels. Active channels change their conductance as a function of, for example, membrane potential. The conductance of passive channels is constant.\n",
        "- **Voltage Clamp**. A method that creates a constant potential difference across the membrane and measures the current flowing through it.\n",
        "- **Activation Gates**. Variables that represent the proportion of channels in a certain state (open or closed).\n",
        "- **Depolarization**. A positive change in the membrane voltage (cell becomes more positive).\n",
        "- **Hyperpolarization**. A negative change in the membrane voltage (cell becomes more negative).\n",
        "\n"
      ]
    },
    {
      "cell_type": "markdown",
      "metadata": {
        "id": "3aT0aRHn8eON"
      },
      "source": [
        "# Learning Objectives"
      ]
    },
    {
      "cell_type": "markdown",
      "metadata": {
        "id": "eaPl2oV1088V"
      },
      "source": [
        "After this project you'll be able to:\n",
        "\n",
        "- Explain how **passive ion channels** and membrane properties lead to the **membrane time constant**.\n",
        "- Explain what is the **driving force**.\n",
        "- Differentiate between **active** and **passive** ion channels.\n",
        "- Explain what is a **gating variable**.\n",
        "- Compute the **steady state** of **voltage gating variables** in the voltage clamp.\n",
        "- Explain the **current flows** across the cell as a function of **maximal conductances** and state of the gating variables.\n",
        "- Explain **conductance** in your own words and why it is different for different ion types.\n",
        "- Compute the **currents** entering the cell for different ion channels.\n",
        "- **Assemble** the different ionic currents in the HH model to produce action potentials.\n",
        "- Know the physical **units** of conductances (Siemens), current (Ampere) and membrane potential (Volts) relate to each other."
      ]
    },
    {
      "cell_type": "markdown",
      "metadata": {
        "id": "509DzcGxeXcI"
      },
      "source": [
        "# Pre-requisites"
      ]
    },
    {
      "cell_type": "markdown",
      "metadata": {
        "id": "0-j_Dp8zeZ_R"
      },
      "source": [
        "Before you go through the project watch the videos suggested below. If you find a better video, you can contribute with the whole \"computing brain\" crowd by suggesting links to be uploaded to the [computing brain youtube channel](https://www.youtube.com/channel/UCU2BRdfg49st7ZdFMZbDScg)!\n",
        "\n",
        "\n",
        "- How to measure neurons via clamps (current clamp, voltage clamp) [video](https://www.youtube.com/watch?v=mVbkSD5FHOw&t=4s)\n",
        "- Ions and electrical charge (Ohm's law) : [video](https://www.youtube.com/watch?v=G3H5lKoWPpY) or [video](https://www.youtube.com/watch?v=fGI9d0CjI8s)\n",
        "- Capacitance :  [video](https://youtu.be/f_MZNsEqyQw) or [video](https://www.youtube.com/watch?v=u-jigaMJT10)\n",
        "- Basic understanding of the electrochemical gradient [video](https://www.youtube.com/watch?v=Ba02v7eoVWQ).\n",
        "  "
      ]
    },
    {
      "cell_type": "markdown",
      "metadata": {
        "id": "Vz3qG1oghAmR"
      },
      "source": [
        "# Initialization Code"
      ]
    },
    {
      "cell_type": "markdown",
      "metadata": {
        "id": "hh25znGpgZNN"
      },
      "source": [
        "- In the code cell below we install the simulator [Brian2](https://brian2.readthedocs.io/) and import relevant python.modules.\n",
        "- It installs and imports Brian2, the simulator we will be using.\n",
        "- **Note that you have to run this every time that colab 'disconnects' from the kernel.**\n",
        "- Documentation of brian2 can be found [here](https://brian2.readthedocs.io/en/stable/user/index.html)\n",
        "- Many errors will be related to your units\n",
        "- You can safely ignore Warning messages.\n",
        "- If you don't know what to do anymore, restart the \"Runtime\" in colab."
      ]
    },
    {
      "cell_type": "code",
      "metadata": {
        "id": "88Qmb5nEPYq6",
        "colab": {
          "base_uri": "https://localhost:8080/"
        },
        "outputId": "e805b7eb-b264-4f33-ed33-81caaa6851e8"
      },
      "source": [
        "# install brian2\n",
        "!pip install brian2\n",
        "\n",
        "# import necesary packages\n",
        "from IPython.display import display\n",
        "from brian2 import * # our simulator of choice\n",
        "import brian2.numpy_ as np # the numpy that comes bundled with it\n",
        "from ipywidgets import interact, interactive # for some neat interactions\n",
        "from IPython.display import display\n",
        "import ipywidgets as widgets\n",
        "import matplotlib.pyplot as plt # for neat plots\n",
        "import time # for time basis conversions"
      ],
      "execution_count": null,
      "outputs": [
        {
          "output_type": "stream",
          "name": "stdout",
          "text": [
            "Looking in indexes: https://pypi.org/simple, https://us-python.pkg.dev/colab-wheels/public/simple/\n",
            "Collecting brian2\n",
            "  Downloading Brian2-2.5.1-cp310-cp310-manylinux_2_17_x86_64.manylinux2014_x86_64.whl (1.5 MB)\n",
            "\u001b[2K     \u001b[90m━━━━━━━━━━━━━━━━━━━━━━━━━━━━━━━━━━━━━━━━\u001b[0m \u001b[32m1.5/1.5 MB\u001b[0m \u001b[31m10.6 MB/s\u001b[0m eta \u001b[36m0:00:00\u001b[0m\n",
            "\u001b[?25hRequirement already satisfied: pyparsing in /usr/local/lib/python3.10/dist-packages (from brian2) (3.0.9)\n",
            "Requirement already satisfied: cython>=0.29 in /usr/local/lib/python3.10/dist-packages (from brian2) (0.29.34)\n",
            "Requirement already satisfied: jinja2>=2.7 in /usr/local/lib/python3.10/dist-packages (from brian2) (3.1.2)\n",
            "Requirement already satisfied: sympy>=1.2 in /usr/local/lib/python3.10/dist-packages (from brian2) (1.11.1)\n",
            "Requirement already satisfied: numpy>=1.17 in /usr/local/lib/python3.10/dist-packages (from brian2) (1.22.4)\n",
            "Requirement already satisfied: setuptools>=24.2 in /usr/local/lib/python3.10/dist-packages (from brian2) (67.7.2)\n",
            "Requirement already satisfied: MarkupSafe>=2.0 in /usr/local/lib/python3.10/dist-packages (from jinja2>=2.7->brian2) (2.1.2)\n",
            "Requirement already satisfied: mpmath>=0.19 in /usr/local/lib/python3.10/dist-packages (from sympy>=1.2->brian2) (1.3.0)\n",
            "Installing collected packages: brian2\n",
            "Successfully installed brian2-2.5.1\n"
          ]
        }
      ]
    },
    {
      "cell_type": "markdown",
      "metadata": {
        "id": "k-DV4AGMZbMA"
      },
      "source": [
        "# 1. The Passive Membrane"
      ]
    },
    {
      "cell_type": "markdown",
      "metadata": {
        "id": "ZBuIHB-3mpV3"
      },
      "source": [
        "## Differences of Potential Due to Differences in Ion Concentration"
      ]
    },
    {
      "cell_type": "markdown",
      "metadata": {
        "id": "blOekBtwiixa"
      },
      "source": [
        "As we learned in the previous project, fatty membrane separating the outside and the inside. Insert some  negatively charged ions and molecules inside (such as Chloride or other anionic proteins). If this compartment is placed in a more positively charged environment, there's a negative difference of potential across the membrane.\n",
        "\n",
        "**The membrane is not perfectly permeable**. There are ion channels in the membrane through which ions can cross. Nature likes an equilibrium, and in principle ions would flow out of the membrane until charge balance is achieved.  However, some ions are too large to get across the membrane, thus they get stuck inside, keeping that charge in the cell. Many proteins inside the cell fit that description, and that makes it so that the inside of the cell is negatively charged. How negative? That's a function of how much charge per volume (charge density) there is. The thing to remember is that even if all channels in the membrane are open, the cell would still retain considerable negative charge.\n",
        "\n",
        "The smaller the ion, the more charge can be packed in a volume. Also, in general there are more ions than ion channels, and so it takes time until these ions can find a channel to leak through, until it comes back to the resting membrane potential.\n",
        "\n",
        "We can calculate this rate of decay via the **passive properties** of the membrane, the **capacitance** and the **leak conductance**.\n"
      ]
    },
    {
      "cell_type": "markdown",
      "metadata": {
        "id": "FGny2Rr0XA1Z"
      },
      "source": [
        "### The Driving Force\n"
      ]
    },
    {
      "cell_type": "markdown",
      "metadata": {
        "id": "mryNTXlWmuB6"
      },
      "source": [
        "The same way as a ball on a hill has potential energy proportional to the height of the hill, the passive membrane that is taken away from $V_{rest}$ has a potential called the **driving force**.\n",
        "\n",
        "\n",
        "---\n",
        "\n",
        "\n",
        "$$V - V_{rest}$$\n",
        "\n",
        "\n",
        "---\n",
        "\n",
        "\n",
        "The farther from $V_{rest}$, the higher the potential, and the willingness of the potential to return to its equilibrium state (usually between -50 to -70mV). Take note of the sign change for when V is smaller than or larger than V_rest. This means that the force *changes direction* depending on the membrane potential of the cell. Note that the driving force pulls the neurons toward their equilibrium potential.\n",
        "\n",
        "Two parameters determine the rate with which the membrane returns to the resting potential, the **membrane capacitance** ($C_{membrane}$, measured in Farads) and the **leak resistance** ($R_{leak}$, measured in Ohms. Note that we also write $g_{leak} = 1/R_{leak}$ where $g_{leak}$ is conductance, measured in Siemens).\n",
        "\n",
        "While the leak resistance relates to the number of pores for ions to cross (only those that are permeable), capacitance is equivalent to the amount of charge that the cell membrane can store and is relatively constant for most cells."
      ]
    },
    {
      "cell_type": "markdown",
      "metadata": {
        "id": "iJO_7MnOZszM"
      },
      "source": [
        "### Charge Loss Due to Leak Conductance and Capacitance\n",
        "\n"
      ]
    },
    {
      "cell_type": "markdown",
      "metadata": {
        "id": "7YlrRuxzm8zE"
      },
      "source": [
        "  When ions cross the membrane through pores (ion channels) we speak of a **current leak**. The **leak conductance** is a measure of how permeable the membrane is to ions, or, in other words, the number of **passive ion channels** and how many ions can cross over time (recall that charge flow is current).\n",
        "\n",
        "The membrane potential change per unit time is represented by ($\\frac{dv}{dt}$), or equivalently $\\dot{V}$, and is an ordinary differential equation. In the absence of any other influences, $V$ tends to $V_{rest}$ (in millivolts (mV)), with a rate determined by the **leak conductance** ($g_{leak}$), which is a constant value, and therefore a **\"passive conductance\"**. Conductance is a measure of the number of leak channels available for the crossing of ions.\n",
        "\n",
        "---\n",
        "\n",
        "\n",
        "$$ \\dot V = - \\frac{1}{R_{leak}}(V-V_{rest}) $$\n",
        "\n",
        "is the same as\n",
        "\n",
        "$$ \\Leftrightarrow \\dot{V} = - g_{leak}(V-V_{rest})$$\n",
        "\n",
        "---\n",
        "\n",
        "\n",
        "Through passive ion channels, the charge leaks out of the neuron until the electrochemical equilibrium, i.e., the resting potential is reached. That is, the driving force gets smaller and smaller until zero. The conductance determines the rate of the return to equilbrium (resting potential).\n",
        "\n",
        "The negative sign explains that the direction of potential change is opposite to the driving force. That is, if we have a net positive driving force, we have a negative rate of change.\n"
      ]
    },
    {
      "cell_type": "markdown",
      "metadata": {
        "id": "1KKBWPm08jPG"
      },
      "source": [
        "Furthermore, cell membranes have [**capacitance**](https://www.youtube.com/watch?v=G3H5lKoWPpY), which is a measurement of how much charge it can store (review the video on capacitance in pre-requisites). The thicker a membrane, the lower the membrane capacitance $C_m$. **The capacitance dampens a current flow**, reducing the rate of change of the membrane potential. The lower the capacitance, the faster the potential difference comes to the resting potential.\n",
        "\n",
        "---\n",
        "From charge conservation considerations we know that if the total current flowing through the circuit is equal to the sum of the capacitive and the resistive currents.\n",
        "\n",
        "$$I_{injected} = I_c + I_{leak}$$\n",
        "\n",
        "If there is no net current ($I_{injected} = 0$), the capacitive current flowing in the cell is equal to the leak current, with an inverted sign.\n",
        "\n",
        "$$0 = I_c + I_{leak}$$\n",
        "$$I_c = - I_{leak}$$\n",
        "\n",
        "If we spell out the currents , we have that:\n",
        "\n",
        "$$C_{m} \\dot{V}  =  I_{injected} - g_{leak}(V-V_{rest}) $$\n",
        "\n",
        "and therefore:\n",
        "\n",
        "$$\\dot{V} =  \\frac{I_{injected} - g_{leak}(V-V_{rest})}{C_{m} }$$\n",
        "\n",
        "\n",
        "or by using leak resistance instead of conductance,\n",
        "\n",
        "\n",
        "$$\\dot{V} =  \\frac{I_{injected}}{C_{m}} - \\frac{(V-V_{rest})}{R_{leak} C_{m} }$$\n",
        "\n",
        "---\n",
        "\n",
        "The denominator of the second equation $R_{leak}C_m$ is often substituted by $\\tau_m$, the so called **time constant** for reasons that will become clear below.\n",
        "\n",
        "Notice also that injected current creates voltage deflections with the same sign, whereas the leak induces a negative rate (i.e., returning to rest).\n"
      ]
    },
    {
      "cell_type": "markdown",
      "metadata": {
        "id": "AcEZHGCicWjD"
      },
      "source": [
        "## Interactive: Visualizing the Time Constant via Current Injection into the Passive Membrane"
      ]
    },
    {
      "cell_type": "markdown",
      "metadata": {
        "id": "grA6VfBtizT6"
      },
      "source": [
        "How fast do we get to the resting membrane potential if we only have passive elements in the membrane (leak ion channels and capacitance)?\n",
        "\n",
        "To see how capacitance and resistance influence the passive decay time of the membrane potential back to resting potential, we create a live widget where we can give a voltage step ('clamp') and see how changes of $C_m$ and $g_{leak}$ change the slope of the decay.\n",
        "\n",
        "**In the code below, pay particular attention to the equation being computed.**"
      ]
    },
    {
      "cell_type": "code",
      "metadata": {
        "colab": {
          "base_uri": "https://localhost:8080/",
          "height": 1000,
          "referenced_widgets": [
            "1e114c0b4128447aac57353cc2f40bf7",
            "8ba7e4cb66434f989554cd9cc09e8ab1",
            "c3cf7ac70a06449687ef65344eaf9a1c",
            "c9173f82bda747afb833b4997b98ab4a",
            "660d9d7d5e0146cc80584443425c5ca6",
            "728ca262e7754af1846880e900335a33",
            "bf21cc90246245f2a480c8c7a4c025d1",
            "362a1f2724484fc4ae78e36b1113dbdc",
            "ab2444e379b54dc4b906c543611f1a04",
            "e14330e2a3464498a1b4170034c4363b",
            "543882f1fb934e0788492ce5bd8ecc34",
            "c199b61079314998840a037249ca5606",
            "98b3c9f510334270a02f318a5dcb1ae0"
          ]
        },
        "id": "v3yKjghdZfGX",
        "outputId": "c2e5a40c-a27a-4298-d323-2a0d53bd1a92"
      },
      "source": [
        "\n",
        "\n",
        "def PassiveMembrane(C_m, g_leak, I):\n",
        "    start_scope()\n",
        "    # this is a function that computes the membrane potential over time\n",
        "    # for a given capacitance and leak conductance\n",
        "\n",
        "    E_leak = -54.5 * mV            # We define the reversal potential as a constant (typical value for HH)\n",
        "    dtt = 0.025*msecond            # simulation parameters (integration time)\n",
        "    g_leak = g_leak* mS/cm**2     # attribute unit [mS/cm^2] to function argument g_leak\n",
        "    Cm = C_m * uF/cm**2           # attribute unit [pF] to function argument C_m\n",
        "\n",
        "    # Here we define our model of the passive membrane in Brian2\n",
        "    # note 1: for Brian, the equations are defined as a string,\n",
        "    #         that's why you see the equation surrounded by '''\n",
        "    # note 2: the unit of the variable is mandatory and specified\n",
        "    #          in the string. It is given as a 'base unit' of the ISU.\n",
        "    # https://en.wikipedia.org/wiki/International_System_of_Units\n",
        "\n",
        "\n",
        "    eqs ='''\n",
        "    I_leak =  g_leak * (v - E_leak)   : ampere*meter**-2\n",
        "    dv/dt = (I - I_leak)/Cm           : volt\n",
        "    I                                 : ampere*meter**-2\n",
        "    '''\n",
        "\n",
        "\n",
        "    # with Brian2 we create a neuron group G with 1 neuron and equations defined above\n",
        "    # note: we use 'euler' method for integrating.\n",
        "    passive_membrane = NeuronGroup(1, eqs, 'euler')\n",
        "\n",
        "    # we introduce a StateMonitor in G to record 'v'\n",
        "    M = StateMonitor(passive_membrane, ['v' , 'I'], record=0)\n",
        "\n",
        "    # we set an initial value for membrane potential (G.v)\n",
        "    passive_membrane.v = E_leak # initial condition\n",
        "\n",
        "    # we run the model (e.g., integrate the differential equations via Brian) for 50ms without input.\n",
        "    run(50*ms)\n",
        "\n",
        "    # CURRENT INJECTION (OR CURRENT CLAMP):\n",
        "    # here we inject current\n",
        "    passive_membrane.I = I*mA/cm**2 # take voltage to v_pulse\n",
        "\n",
        "    # and let the membrane potential 'relax', that is,\n",
        "    # we run 50ms more of simulation, to see the difference in decay time\n",
        "    # due to the change of voltage.\n",
        "    run(50*ms)\n",
        "\n",
        "    passive_membrane.I = 0*mA/cm**2 # take voltage to v_pulse\n",
        "    run(50*ms)\n",
        "\n",
        "    # finally, the function Mem_func is able to plot its output.\n",
        "    axes = plt.gca()\n",
        "    plt.plot(M.t/ms, M.v[0]/mV)\n",
        "    plt.xlabel('Time (ms)')\n",
        "    plt.ylabel('V (mV)')\n",
        "\n",
        "    return E_leak\n",
        "\n",
        "# make the function interactive\n",
        "# note: we have to use numpy floats for continuous variables\n",
        "\n",
        "w = interactive(PassiveMembrane, g_leak=(0.0,1.0), C_m=(0.1,10.0), I=(-1., 1));\n",
        "\n",
        "#w.children\n",
        "display(w)"
      ],
      "execution_count": null,
      "outputs": [
        {
          "output_type": "display_data",
          "data": {
            "text/plain": [
              "interactive(children=(FloatSlider(value=5.05, description='C_m', max=10.0, min=0.1), FloatSlider(value=0.5, de…"
            ],
            "application/vnd.jupyter.widget-view+json": {
              "version_major": 2,
              "version_minor": 0,
              "model_id": "1e114c0b4128447aac57353cc2f40bf7"
            }
          },
          "metadata": {}
        },
        {
          "output_type": "display_data",
          "data": {
            "text/plain": [
              "<Figure size 640x480 with 1 Axes>"
            ],
            "image/png": "[encoded data removed]"
          },
          "metadata": {}
        },
        {
          "output_type": "display_data",
          "data": {
            "text/plain": [
              "<Figure size 640x480 with 1 Axes>"
            ],
            "image/png": "[encoded data removed]"
          },
          "metadata": {}
        },
        {
          "output_type": "display_data",
          "data": {
            "text/plain": [
              "<Figure size 640x480 with 1 Axes>"
            ],
            "image/png": "[encoded data removed]"
          },
          "metadata": {}
        }
      ]
    },
    {
      "cell_type": "markdown",
      "metadata": {
        "id": "DHYeM4GDU3XC"
      },
      "source": [
        "## Questions:"
      ]
    },
    {
      "cell_type": "markdown",
      "metadata": {
        "id": "YxYPNj3Ni56B"
      },
      "source": [
        "0. Describe to yourself what you see in the plot above. Relate that to the code.\n",
        "\n",
        "1. A current pulse is injected into the membrane. What is its duration? What is its unit?\n",
        "\n",
        "1. What is the **time scale** of the decay due to passive properties of the membrane?\n",
        "\n",
        "2. What is the influence of capacitance on decay time to resting potential? What is the influence on voltage rise time?\n",
        "\n",
        "3. What is the relationship between leak conductance and capacitance on decay dynamics?\n",
        "\n",
        "4. What is the **Driving Force**? What direction does it point towards?\n",
        "\n",
        "5. What happens if leak conductance is set to zero?\n",
        "\n",
        "7. Did you notice that the unit of the membrane potential is not a density ( divided by an area)? Explain why via (1) the equations, and (2) intuitively.\n"
      ]
    },
    {
      "cell_type": "markdown",
      "metadata": {
        "id": "HkJrdvXaMn7h"
      },
      "source": [
        "### Answers:\n"
      ]
    },
    {
      "cell_type": "markdown",
      "metadata": {
        "id": "uQxyPpy5fCQF"
      },
      "source": [
        "0. A simulation of the response of the passive membrane for a current injection, depending on the resistance and capacitance of the membrane.\n",
        "1. A passive membrane has a resting potential of -70mV. At about 50ms, it is momentarily 'clamped' to a higher voltage (-45mV). After release of the holding potential, the membrane potential returns to resting value.\n",
        "\n",
        "2. Judging by the time for the voltage to decay to baseline in the plots above, the time scale of the decay is about 10's of milliseconds.\n",
        "\n",
        "3. The larger the capacitance, the slower the decay. This makes sense, as capacitance is a measure of 'charge storage capacity'.\n",
        "\n",
        "4. They are reciprocal of each other.\n",
        "\n",
        "5. The Driving force is (Vpulse - Vleak). Positive if Vpulse is larger than Vleak. The direction is then the opposite of the voltage deflection.\n",
        "\n",
        "6. After the step, the membrane potential no longer changes, because current is not leaking passively through the leak channels. The entire charge delivered by the current is kept.\n",
        "\n",
        "7. The membrane potential is a property of the entire cell. While the densities cancel out for capacitance and conductance, giving area to voltage would result on unit discrepancy."
      ]
    },
    {
      "cell_type": "markdown",
      "metadata": {
        "id": "CodoG51MDeIW"
      },
      "source": []
    },
    {
      "cell_type": "markdown",
      "metadata": {
        "id": "cQ3YHcsAP6iV"
      },
      "source": [
        "## Units of Conductance: mS or mS/cm^2?"
      ]
    },
    {
      "cell_type": "markdown",
      "metadata": {
        "id": "UWbCsdGLQHrf"
      },
      "source": [
        "\n",
        "**The base unit of conductance** is the $S$, the *Siemens*, the reciprocal of resistance, given in *Ohm* ($\\Omega^{-1} = S$). The leak **conductance** reflects the number of leak channels in the membrane (i.e., pores).\n",
        "\n",
        "A single ion channel, will have a certain conductance (called 'unitary' conductance, because it is a single ion channel). The membrane has many of these channels per unit area, so when describing the channel conductance of the neuronal membrane we often use 'density'. The ion channel conductances per unit of membrane area is often given as milisiemens per centimeter square ($mS/cm^2$).\n",
        "\n",
        "In this project we use *conductance density* and also *current density* (often in $mA/cm^2$). Other models can use *total conductance* for the entire cell, or *total current injected* in which case we are effectively multiplying a density times a membrane area. While the later value is largely invariant to cell size, the former choice is very dependent on the cell's surface area. Therefore, when we measure conductance in experiment we often prefer to use express conductances as densities.\n",
        "\n",
        "While this may seem like a digression, a *modeler has to be very aware of his choices for units* because cell dynamics are very sensitive to values. This is also the reason why we selected Brian as our neural simulator, as it forces us to make unit choices explicit.\n",
        "\n",
        "Henceforth, every time you see a value, stare at the unit for a moment and try to visualize what it is measuring. Attend to scales!"
      ]
    },
    {
      "cell_type": "markdown",
      "metadata": {
        "id": "Sm0WcCxDfYX3"
      },
      "source": [
        "# 2. The Excitable Membrane"
      ]
    },
    {
      "cell_type": "markdown",
      "metadata": {
        "id": "okOtlv5znlu_"
      },
      "source": [
        "### Active Ion Channels"
      ]
    },
    {
      "cell_type": "markdown",
      "metadata": {
        "id": "fm1jDFA-jHf1"
      },
      "source": [
        "\n",
        "**Active Channels are those where ion permeability changes as a function of something, usually voltage** or some chemical. In contrast, passive channels such as the **leak** have constant conductance. Active essentially means that the state of the channels changes as a function of some other variable, such as the membrane potential.\n",
        "\n",
        "Ion channels come in grate variety depending on ion selectivity, whether their activation is voltage dependent, or on whether they depend on binding to a particular chemical (ligand gated channels).\n",
        "\n",
        "We begin our exposition with active (but simple) ion channels whose activity is dependent on the membrane potential.\n"
      ]
    },
    {
      "cell_type": "markdown",
      "metadata": {
        "id": "E-WavOTajAmE"
      },
      "source": [
        "### Ion Selectivity"
      ]
    },
    {
      "cell_type": "markdown",
      "metadata": {
        "id": "0leWqWhNjQLn"
      },
      "source": [
        "Channels can be more or less **selective** for particular ions, and we generally name the current that is due to a certain ion channel with the name of it's preferred ion. For example, Sodium ions go through the **Sodium channel** and become the **Sodium Current**.\n",
        "\n",
        "Other channel types exist that are less selective, and have currents  due to multiple kinds of ions, with prominent examples being the Sodium/Potassium pump and the **NMDA** receptor, which exchanges both Calcium and Magnesium. There are also Chloride channels and many others. We focus on the ones that are crucial for the production of action potentials."
      ]
    },
    {
      "cell_type": "markdown",
      "metadata": {
        "id": "UG9QIPlWjDPB"
      },
      "source": [
        "### Currents"
      ]
    },
    {
      "cell_type": "markdown",
      "metadata": {
        "id": "lcFRw1nRjM8p"
      },
      "source": [
        "The current that crosses the membrane is a function of the number of permeable ion channels available at the membrane at a given time. For example, **the Sodium current ($I_{Na}$) is the total amount of current that is due to the flow of Sodium ions through the sodium channels**. The current is determined by the multiplication between the **maximum conductance**, the **gating variables** representing the proportion of open ($m$) and active ($h$) chanels and the **driving force** ($V-V_{rest}$).\n",
        "\n",
        "\n",
        "The following paragraphs define **gating variables**, their effect on permeability and how they change over time, i.e., their **dynamics**.\n",
        "\n",
        "For an explanation on single channels [see this video](https://youtu.be/lpkaXwtAt7E)"
      ]
    },
    {
      "cell_type": "markdown",
      "metadata": {
        "id": "mYxdMOQ_kD49"
      },
      "source": [
        "### Gating Variables\n",
        "\n"
      ]
    },
    {
      "cell_type": "markdown",
      "metadata": {
        "id": "WDLD1AfHkpPA"
      },
      "source": [
        "Installed in the membrane are large numbers of active ion channels (varying from tens to tens of thousands). Many ion channels are rather selective. Ion channels can be open or closed state. The ion channels are statistically independent of each other.\n",
        "\n",
        "From these assumptions, we can represent the state of active ion channels via **gating variables, which represent the proportion of channels that are open or closed** (or sometimes 'activated and inactivated'). As they are a **proportion** of open channels of all available channels, they take values from 0 (no channels opened) to 1 (all channels opened).\n",
        "\n",
        "(If we have 100,000 channels, and 80,000 are currently open, then gating variable $x$ has value 0.8, that is 80% of the channels are open).\n",
        "\n",
        "Each channel opens and closes probabilistically and independently ([see explanation on [single channel patch clamp](our video). The probability of opening and closing is a function of the context, which could be, for example, the momentary membrane potential of the cell. When there are large numbers of channels, this probability of the single channel can be taken as the proportion of channels open. For example, for a given membrane potential $V$, the **proportion of  channels in an open state** is given by a function of activation gate $m_{\\infty}$ (a **gating variable**):\n",
        "\n",
        "<img src=\"https://i.postimg.cc/h4TDpRN2/m-inf.png\" width=\"350x\">\n",
        "\n",
        "In this figure we have the experimentally measured proportion of open channels, i.e., the *steady state* of the **gating variable** (the error bars represent the outcoume of multiple experiments)."
      ]
    },
    {
      "cell_type": "markdown",
      "metadata": {
        "id": "tCko7TGRbxoq"
      },
      "source": [
        "#### Quiz Questions:\n",
        "\n",
        "1. Analyze the graph above and determine what is the potential at which all channels are closed?\n",
        "1. What is the difference between an active and a passive ion channel?\n",
        "1. What is a gating variable?\n",
        "1. What is selectivity?"
      ]
    },
    {
      "cell_type": "markdown",
      "metadata": {
        "id": "XrgFWFOsWoiG"
      },
      "source": [
        "### Activation and Inactivation Gates\n",
        "\n"
      ]
    },
    {
      "cell_type": "markdown",
      "metadata": {
        "id": "qXtr1Iy6o3N9"
      },
      "source": [
        "**Note** that there can be more than one gating variable per channel type, depending on the mechanisms of the ion channel. For example, the Sodium ion channel has two gates, the **activation gate** $m$ and the **inactivation gate** $h$. A function that determines the activation gate is called an activation function.\n",
        "\n",
        "The flow of sodium through all channels (permeability)  is dependent on both these gating variables. As m and h represent proportion, they can also be thought of as probabilities. Hence, the probability of an ion channel being permeable is their multiplication.\n",
        "\n",
        "----\n",
        "\n",
        "$$p = m^a h^b$$\n",
        "\n",
        "----\n",
        "\n",
        "The exponents $a$ and $b$ are also related to the mechanical action of the ion channel, essentially expressing the number of  activation gates (a) and inactivation gates (b) (for a more in-depth explanation consult chapter 2 of Dynamical Systems in neuroscience, or Aaron)."
      ]
    },
    {
      "cell_type": "markdown",
      "metadata": {
        "id": "2XziB8_HXz6i"
      },
      "source": [
        "### Sample Code: Plotting a function with python"
      ]
    },
    {
      "cell_type": "markdown",
      "metadata": {
        "id": "sqVTvIy_1I_K"
      },
      "source": [
        "An arbitrary **activation function** $x$ takes from 0 to 1 as a function of V. It is commonly represented by a  [sigmoid function](https://en.wikipedia.org/wiki/Sigmoid_function) such as the one below. The sigmoid is chosen because it is a function that is bounded, symmetric and smooth.\n",
        "\n",
        "---\n",
        "\n",
        "$$x_{\\infty}(V) = \\frac{1}{1+e^{(V_{1/2}-V)/k}}$$\n",
        "\n",
        "---\n",
        "This type of function is often used to model the **steady state** (represented by the $\\infty$ subscript) of the activation gate, because it is symmetrical, rises smoothly and can be parameterized to match experimental data.\n",
        "\n",
        "The function takes two parameters, $V_{1/2}$ and $k$ ($V_{1/2}$ defines the position of the midpoint of the sigmoid, and k defines the slope, see figure). These parameters are obtained experimentally via patch clamp experiments. For example, the activation variable $m_{\\infty}$ of the squid axon, we have that $V_{1/2} = -40, k = 15$.\n",
        "\n",
        "\n",
        "The parameters determine the shape of the sigmoid function, as such:\n",
        "\n",
        "[![boltzmann-function.png](https://i.postimg.cc/Tw2b5MsG/boltzmann-function.png)](https://postimg.cc/R38h289b)\n",
        "\n",
        "The python code below defines and plots a mathematical function, in this case, the sigmoid (also called a Boltzmann function).\n",
        "\n"
      ]
    },
    {
      "cell_type": "code",
      "metadata": {
        "colab": {
          "base_uri": "https://localhost:8080/",
          "height": 299
        },
        "id": "8FuejXdS1Q4x",
        "outputId": "411fea56-e966-4095-aa5e-3c7f2633b411"
      },
      "source": [
        "# define a function m_inf that returns the\n",
        "# steady state of m gate for any value of the potential V.\n",
        "\n",
        "def sigmoid(v_at_half, k, V):\n",
        "\n",
        "    #np.exp means we are using the function exp from the package numpy\n",
        "    return (1./(1.+np.exp((v_at_half-V)/k)))\n",
        "\n",
        "# define a voltage range for calculating the function\n",
        "v = np.arange(-100.0, 0.0, 1.) # from -100 to 0mV at steps of 1mV\n",
        "\n",
        "m_inf = sigmoid(-40,15, v)\n",
        "\n",
        "plt.figure(1) # create a figure\n",
        "\n",
        "plt.plot(v, m_inf) # plot the range x vs the function tau(x) domain\n",
        "plt.xlabel(r'$mV$') # add labels to the plot\n",
        "plt.ylabel(r'$m_{\\infty}(V)$')"
      ],
      "execution_count": null,
      "outputs": [
        {
          "output_type": "execute_result",
          "data": {
            "text/plain": [
              "Text(0, 0.5, '$m_{\\\\infty}(V)$')"
            ]
          },
          "metadata": {},
          "execution_count": 3
        },
        {
          "output_type": "display_data",
          "data": {
            "text/plain": [
              "<Figure size 432x288 with 1 Axes>"
            ],
            "image/png": "[encoded data removed]"
          },
          "metadata": {
            "needs_background": "light"
          }
        }
      ]
    },
    {
      "cell_type": "markdown",
      "metadata": {
        "id": "FvWE2n1KWnGM"
      },
      "source": [
        "##### Quiz Question:\n",
        "\n",
        "- Why does a sigmoid shape is well suited to represent gating variables?\n"
      ]
    },
    {
      "cell_type": "markdown",
      "metadata": {
        "id": "ZOD6theSV4tl"
      },
      "source": [
        "### Activation Time Constants"
      ]
    },
    {
      "cell_type": "markdown",
      "metadata": {
        "id": "JYlMJ9tZ1Rb1"
      },
      "source": [
        "When the membrane potential changes, the opening and closing of channels **is not instantaneous**. The gating variable tends to the steady state that is dependent on  voltage (see plot under gating variables) with a rate inversely proportional to $\\tau_x$, which is also voltage dependent. In other words, to determine this rate of change (from open to close or vice-versa) we can measure $\\tau_x$.\n",
        "Note that $\\tau_x$ is the time constant for the rate of change of gating variables and is different from the membrane time constant.\n",
        "\n",
        "![tau-m.png](https://i.postimg.cc/FFZq9PS9/tau-m.png)\n",
        "\n",
        "The function that determines the rate of change of m is given by\n",
        "\n",
        "---\n",
        "\n",
        "$\\tau_x(V) = C_{base} + C_{amp}  e^\\frac{-(V_{max}-V)^2}{\\sigma^2}$\n",
        "\n",
        "---\n"
      ]
    },
    {
      "cell_type": "markdown",
      "metadata": {
        "id": "7XRTzA4N_J1W"
      },
      "source": [
        "#### Code Exercise: Plot the function for $\\tau_m(V)$\n",
        "\n",
        "Using the sample code above, plot the function defined above.\n",
        "\n",
        "Where $C_{base}, C_{amp}, V_{max}, \\sigma$ are given parameters (see below).\n",
        "\n",
        "[![gaussian.png](https://i.postimg.cc/XJFf9SKz/gaussian.png)](https://postimg.cc/JDrHWF2N)"
      ]
    },
    {
      "cell_type": "markdown",
      "metadata": {
        "id": "IZ3Eo8B0cuUJ"
      },
      "source": [
        "### Your Code"
      ]
    },
    {
      "cell_type": "code",
      "metadata": {
        "id": "M7HGg_xhcwys",
        "colab": {
          "base_uri": "https://localhost:8080/",
          "height": 297
        },
        "outputId": "1dc9cdd1-a3dc-4148-9b92-09f249b99b79"
      },
      "source": [
        "# define a function m_inf that returns the\n",
        "# steady state of m gate for any value of the potential V.\n",
        "\n",
        "def tau(C_base, C_amp, V_max, v, sig):\n",
        "\n",
        "    #np.exp means we are using the function exp from the package numpy\n",
        "    return C_base +C_amp*np.exp(-(V_max-v)**2/sig**2)\n",
        "\n",
        "# define a voltage range for calculating the function\n",
        "v = np.arange(-100.0, 100.0, 1) # from -100 to 0mV at steps of 1mV\n",
        "\n",
        "plt.figure(1) # create a figure\n",
        "\n",
        "plt.plot(v, tau(0.04, 5, 10, v, 20)) # plot the range x vs the function tau(x) domain\n",
        "plt.xlabel('mV') # add labels to the plot\n",
        "plt.ylabel('tau_m (ms)')\n"
      ],
      "execution_count": null,
      "outputs": [
        {
          "output_type": "execute_result",
          "data": {
            "text/plain": [
              "Text(0, 0.5, 'tau_m (ms)')"
            ]
          },
          "metadata": {},
          "execution_count": 16
        },
        {
          "output_type": "display_data",
          "data": {
            "text/plain": [
              "<Figure size 432x288 with 1 Axes>"
            ],
            "image/png": "[encoded data removed]"
          },
          "metadata": {
            "needs_background": "light"
          }
        }
      ]
    },
    {
      "cell_type": "code",
      "metadata": {
        "colab": {
          "base_uri": "https://localhost:8080/",
          "height": 297
        },
        "id": "IQz8yjjP__dg",
        "outputId": "4759c820-1f3f-43df-e161-cc56750975ae"
      },
      "source": [
        "\n",
        "\n",
        "def tau(V, C_base, C_amp, V_max, sig):\n",
        "    return C_base +C_amp*np.exp(-(V_max-v)**2/sig**2)\n",
        "\n",
        "v = np.arange(-100.0, 100.0, 1) # from -100 to 0mV at steps of 1mV\n",
        "\n",
        "plt.figure(1)\n",
        "\n",
        "# plot the values\n",
        "plt.plot(v, tau(v, 5, 10, -50., 20.)) # plot the range x vs the function tau(x) domain\n",
        "\n",
        "# do not forget to add labels to the plot\n",
        "plt.xlabel('mV')\n",
        "plt.ylabel('tau_m (ms)')"
      ],
      "execution_count": null,
      "outputs": [
        {
          "output_type": "execute_result",
          "data": {
            "text/plain": [
              "Text(0, 0.5, 'tau_m (ms)')"
            ]
          },
          "metadata": {},
          "execution_count": 5
        },
        {
          "output_type": "display_data",
          "data": {
            "text/plain": [
              "<Figure size 432x288 with 1 Axes>"
            ],
            "image/png": "[encoded data removed]"
          },
          "metadata": {
            "needs_background": "light"
          }
        }
      ]
    },
    {
      "cell_type": "markdown",
      "metadata": {
        "id": "VTijklfBDwWx"
      },
      "source": [
        "### Maximal conductance ($\\bar{g}$)\n"
      ]
    },
    {
      "cell_type": "markdown",
      "metadata": {
        "id": "HipY8FZreHhh"
      },
      "source": [
        "While the gating variable stands for the proportion of channels open, the **maximum conductance** $\\bar{g}_{some\\ channel}$ represents the total number of channels available of a given type. We read $\\bar{g}$ as 'g bar'. As the channels can be in different states, the actual conductance is a product of the gating variable and of the maximum conductance.\n",
        "\n",
        "---\n",
        "$$g_{channel} = \\bar{g}_{channel} x$$\n",
        "\n",
        "---\n",
        "\n",
        "\n",
        "Where x is the activation gate, that indicates the proportion of channels letting ions through.\n",
        "\n",
        "Active ion channels change their conductance as a function of other variables, such as the momentary membrane potential. For the sodium ion channel for example, conductance is low when the cell is negative and high when the cell is depolarized.\n",
        "\n"
      ]
    },
    {
      "cell_type": "markdown",
      "metadata": {
        "id": "Acm24dTE3Azl"
      },
      "source": [
        "### Permeability of the Sodium Ion Channel"
      ]
    },
    {
      "cell_type": "markdown",
      "metadata": {
        "id": "8fscJsLleBfZ"
      },
      "source": [
        "Now we can write the  conductance of sodium ion as a function of its activation and inactivation gates m and h:\n",
        "\n",
        "$$\n",
        "g_{Na}=\\bar{g}_{Na}m^3h\n",
        "$$\n",
        "\n",
        "Where $\\bar{g}_{Na}$ is the maxiumum conductance, $m$ is an activation gate, and $h$ is an inactivation gate. Essentially, if all channels are open $(m=1)$ and de-inactivated $(h=1)$, we have that the conductance is maximal.\n",
        "\n",
        "\n",
        "The variables in this equation can be interpreted. *m* is the probability of the activation gate to be open,  *h* is the probability of the inactivation gate to be 'de-inactivated', that is 'available'. Their powers, $a=3$ and $b=1$, respectively are the degrees of freedom of (in)activation gates in the Sodium channel. This figure represents the situation for the Sodium channel:\n",
        "\n",
        "[![sodium-channel.png](https://i.postimg.cc/Gh7HXSR9/sodium-channel.png)](https://postimg.cc/cr3xHhrN)\n"
      ]
    },
    {
      "cell_type": "markdown",
      "metadata": {
        "id": "iOKY4vmKgAnB"
      },
      "source": [
        "### General model for conductances based currents:\n",
        "\n",
        "The vast majority of voltage-gated ion channel are modeled similarly (like potassium for example, see below). In general, the activation and inactivation variables ( $m$ and $h$) are raised to powers $a$ and $b$ respectively. The exponents appear through fitting procedures, but can be taken to mean the \"degrees of freedom\" of the channel (how many distinct conformations that make the channel permeable).\n",
        "\n",
        "$$\n",
        "g_i = \\bar{g_i} m^a h^b\n",
        "$$\n"
      ]
    },
    {
      "cell_type": "markdown",
      "metadata": {
        "id": "NRRSO6e5u--8"
      },
      "source": [
        "#### Understanding Differences:\n",
        "- What is the difference between the membrane time constant and the time constant for the ion channel gating variables?\n",
        "- How do inactivated channels differ from closed channels?\n"
      ]
    },
    {
      "cell_type": "code",
      "metadata": {
        "id": "YGdAjsWS1QB3"
      },
      "source": [],
      "execution_count": null,
      "outputs": []
    },
    {
      "cell_type": "markdown",
      "metadata": {
        "id": "s0ndCk70kZCd"
      },
      "source": [
        "### Dynamics of Sodium gating variables"
      ]
    },
    {
      "cell_type": "markdown",
      "metadata": {
        "id": "bDQ_hIwCkexz"
      },
      "source": [
        "Gating variables in general take values from 0 (impermeable) to 1 (permeable). Changes in the membrane potential lead to changes in the proportion of channels open or inactivated.\n",
        "\n",
        "\n",
        "- partially activated $(0<m<1)$\n",
        "- completely activated $(m=1)$\n",
        "- deactivated $(m=0)$\n",
        "- inactivated $(h=0)$\n",
        "- deinactivated$(h=1)$\n",
        "\n",
        "The change in state (for m or h) is given by a differential equation that is a function of $V$. Note that it is very similar to the one for the dynamics of the membrane potential of passive membranes.\n",
        "\n",
        "---\n",
        "\n",
        "$$\n",
        "\\dot m = dm/dt = \\frac{m_\\infty(V) - m}{\\tau_m(V)}\n",
        "$$\n",
        "\n",
        "---\n",
        "\n",
        "where $m_{\\infty}$ is the steady state  activation or inactivation (the equilibrium) and $\\tau(V)$ is the activation or inactivation time constant (a measure of the time to reach a steady state, or the speed).\n",
        "\n",
        "Think of $m_\\infty$ as the value that is inevitably obtained as we keep the membrane potential fixed for a very long times (i.e., infinity).\n",
        "\n",
        "$k$ is just a factor that determines the steepness of the slope, the smaller $k$ is, the steeper $m_\\infty(V)$ is.\n",
        "\n",
        "$h$ is described by an equivalent equation:\n",
        "\n",
        "---\n",
        "\n",
        "$$\n",
        "\\dot h = dh/dt =  \\frac{h_\\infty(V) - h}{\\tau_h(V)}\n",
        "$$\n",
        "\n",
        "---\n",
        "\n",
        "\n"
      ]
    },
    {
      "cell_type": "markdown",
      "metadata": {
        "id": "FkMjEMYvW25u"
      },
      "source": [
        "#### Exercises:\n",
        "\n",
        "1. Below you encounter parameters for the steady state and time constant of the different ion channel gating functions. These are the specific parameters according to Hodgkin and Huxley for the squid axon. Plot the steady state activation functions and time constants for each of the ions!\n",
        "\n",
        "\n",
        "| gating function | $V_{\\frac{1}{2}}$ | k | time constant ($\\tau_{gate}$) | $V_{max}$ | $\\sigma$ | $C_{base}$ | $C_{amp}$ |\n",
        "|-|-|-|-|-|-|-|-|\n",
        "| $m_\\infty(V)$ | -40 | 9 |$\\tau_m(V)$|-38     |30| 0.04 |0.46|\n",
        "| $h_\\infty(V)$ | -62 | -7 |$\\tau_h(V)$| -67   |20| 1.2  |7.4|\n",
        "\n",
        "<!-- | $n_\\infty(V)$ | -53 | 15 |$\\tau_n(V)$|-79 |50|1.1  |4.7| -->\n",
        "\n",
        "**Important Note**: Hodgkin and Huxley in their original paper summed +65mV to the variables, so that the so that their resting potential would appear to be at 0mV. Here we use the value for the actual reversal potential of about -65mV."
      ]
    },
    {
      "cell_type": "code",
      "metadata": {
        "id": "eGeuWokMc9mK",
        "colab": {
          "base_uri": "https://localhost:8080/",
          "height": 289
        },
        "outputId": "3fd93426-a6f7-497e-ddd4-0c7864164ea1"
      },
      "source": [
        "# your code\n",
        "def sigmoid(v_at_half, k, V):\n",
        "  return (1./(1.+np.exp((v_at_half-V)/k)))\n",
        "\n",
        "def tau(C_base, C_amp, V_max, sig, V):\n",
        "  return C_base + C_amp*np.exp(-(V_max-V)**2/sig**2)\n",
        "\n",
        "V_range = np.arange(-100.0, 0.0, 1.)\n",
        "m_inf = sigmoid(-40, 9, V_range)\n",
        "h_inf = sigmoid(-62, -7, V_range)\n",
        "tau_m = tau(0.04, 0.46, -38, 30, V_range)\n",
        "tau_h = tau(1.2, 7.4, -67, 20, V_range)\n",
        "\n",
        "plt.figure(1,figsize=(8, 2), dpi= 150)\n",
        "plt.subplot(1,2,1)\n",
        "plt.plot(V_range, m_inf, label= 'm')\n",
        "plt.plot(V_range, h_inf, label= 'h')\n",
        "plt.xlabel('$V $ (mV)')\n",
        "plt.ylabel('$x_{\\infty}(V)$')\n",
        "legend();\n",
        "plt.subplot(1,2,2)\n",
        "plt.plot(V_range, tau_m, label= 'm')\n",
        "plt.plot(V_range, tau_h, label= 'h')\n",
        "plt.xlabel('$V $ (mV)')\n",
        "plt.ylabel('$tau_x(V) $ (ms)')\n",
        "legend();\n"
      ],
      "execution_count": null,
      "outputs": [
        {
          "output_type": "display_data",
          "data": {
            "text/plain": [
              "<Figure size 1200x300 with 2 Axes>"
            ],
            "image/png": "[encoded data removed]"
          },
          "metadata": {
            "needs_background": "light"
          }
        }
      ]
    },
    {
      "cell_type": "code",
      "metadata": {
        "id": "XKTnH5WC8tNj",
        "cellView": "form",
        "colab": {
          "base_uri": "https://localhost:8080/",
          "height": 289
        },
        "outputId": "f23e8d0d-b3f7-455b-a3d0-e4f6f1b5db83"
      },
      "source": [
        "#@title Solution: Click here to see the solution code\n",
        "def sigmoid(v_at_half, k, V):\n",
        "  return (1./(1.+np.exp((v_at_half-V)/k)))\n",
        "\n",
        "def tau(C_base, C_amp, V_max, sig, V):\n",
        "    return C_base + C_amp*np.exp(-(V_max-V)**2/sig**2)\n",
        "\n",
        "V_range = np.arange(-100.0, 0.0, 1.)\n",
        "\n",
        "m_inf =  sigmoid(-40,  9, V_range)\n",
        "h_inf =  sigmoid(-62, -7, V_range)\n",
        "\n",
        "tau_m = tau( 0.04, 0.46, -38, 30, V_range)\n",
        "tau_h = tau( 1.2 , 7.4, -67, 20, V_range)\n",
        "\n",
        "\n",
        "plt.figure(1, figsize=(8, 2), dpi= 150)\n",
        "plt.subplot(1,2,1)\n",
        "plt.plot(V_range, m_inf, label= 'm')\n",
        "plt.plot(V_range, h_inf, label= 'h')\n",
        "plt.xlabel('$V $ (mV)')\n",
        "plt.ylabel('$x_{\\infty}(V)$')\n",
        "legend();\n",
        "\n",
        "\n",
        "plt.subplot(1,2,2)\n",
        "\n",
        "plt.plot(V_range, tau_m, label= 'm')\n",
        "plt.plot(V_range, tau_h, label= 'h')\n",
        "plt.xlabel('$V $ (mV)')\n",
        "plt.ylabel('$tau_x(V)$  (ms)')\n",
        "legend();\n"
      ],
      "execution_count": null,
      "outputs": [
        {
          "output_type": "display_data",
          "data": {
            "text/plain": [
              "<Figure size 1200x300 with 2 Axes>"
            ],
            "image/png": "[encoded data removed]"
          },
          "metadata": {
            "needs_background": "light"
          }
        }
      ]
    },
    {
      "cell_type": "markdown",
      "metadata": {
        "id": "oNhiP9htlxOj"
      },
      "source": [
        "#### Comprehension Questions:"
      ]
    },
    {
      "cell_type": "markdown",
      "metadata": {
        "id": "fQZQVD0H8ogW"
      },
      "source": [
        "0. What is the unit for the steady state activation variables?\n",
        "1. What is the activation variable that changes the fastest?\n",
        "2. What is the status of the m and h gates for low membrane potentials?\n",
        "3. The curves for h and m appear reflected across the vertical axes. What does that mean?\n",
        "4. Where is the rate of change of activation variables the fastest? Why?"
      ]
    },
    {
      "cell_type": "markdown",
      "metadata": {
        "id": "4BWAHEX-7eao"
      },
      "source": [
        "#### Check your Answers"
      ]
    },
    {
      "cell_type": "markdown",
      "metadata": {
        "id": "fhJgPLAh8siB"
      },
      "source": [
        "Make sure you can produce a reason for these answers, else ask your lecturers!\n",
        "\n",
        "0. Unitless.\n",
        "1. 'm'.\n",
        "2. m = 0 (closed), h = 1 (de-inactivated).\n",
        "3. That they do the opposite of each other.\n",
        "4. They are the fastest closest to the activation value of 0.5. This is because that is the value at which the function has the maximum slope."
      ]
    },
    {
      "cell_type": "markdown",
      "metadata": {
        "id": "gRt4YQICWLix"
      },
      "source": [
        "### Interactive: Dynamics of Activation Variables\n",
        "\n",
        "In this example we will plot the dynamics (change over time) of **INDIVIDUAL** activation variables (m and h) after a change of membrane potential. **For the moment we assume that the membrane has no leak and capacitance is very small**, so that we can isolate the effect of the gating variables as a function of voltage. We assume an initial membrane potential of V=-80mV is held for 100ms, and then instantaneously changed it to a new holding potential of V=0mV. What you observe is the m and h variable tending to their steady potential values."
      ]
    },
    {
      "cell_type": "code",
      "metadata": {
        "id": "WTO0vzMiKvae"
      },
      "source": [
        "start_scope()\n",
        "\n",
        "def ActivationGates(V):\n",
        "    # this is a function that computes the membrane potential over time\n",
        "    # for a given capacitance and leak conductance\n",
        "\n",
        "  eqs_activation= '''\n",
        "    m_inf =  1/(1+exp((-40*mV -v)/(9*mV))) : 1\n",
        "    h_inf =  1/(1+exp((-62*mV -v)/(-7*mV))) : 1\n",
        "    taum  =  .46*ms + .04*exp(-(-38*mV-v)**2/(30*mV)**2) *ms : second\n",
        "    tauh  =  7.4*ms + 1.2*exp(-(-67*mV-v)**2/(20*mV)**2) *ms : second\n",
        "    dm/dt = (m_inf - m)/taum : 1\n",
        "    dh/dt = (h_inf - h)/tauh : 1\n",
        "    v : volt\n",
        "    '''\n",
        "  # with Brian2 we create a neuron group G with 1 neuron and equations defined above\n",
        "  N = NeuronGroup(1, eqs_activation, method='euler', dt=0.025*ms)\n",
        "\n",
        "  # we introduce a StateMonitor\n",
        "  M = StateMonitor(N, ['v','m','h'], record=0)\n",
        "\n",
        "  # we set an initial value for membrane potential\n",
        "  N.v = -90*mV # initial condition\n",
        "\n",
        "  #we run the model for 50ms without input\n",
        "  run(50*ms)\n",
        "\n",
        "  # VOLTAGE CLAMP:\n",
        "  # here we set the initial voltage value (we 'clamp the voltage to a constant', also called, 'holding potential')\n",
        "  N.v = V*mV # voltage clamp\n",
        "\n",
        "  # and let the membrane potential 'relax', that is,\n",
        "  # we run 50ms more of simulation, to see the difference in decay time\n",
        "  # due to the change of voltage.\n",
        "  run(50*ms)\n",
        "\n",
        "  # finally, the function Mem_func is able to plot its output.\n",
        "  axes = plt.gca()\n",
        "\n",
        "  plt.plot(M.t/ms, M.m[0])\n",
        "  plt.plot(M.t/ms, M.h[0])\n",
        "  plt.xlabel('time (ms)')\n",
        "  plt.ylabel('activation')\n",
        "  plt.legend(['m' , 'h'])\n"
      ],
      "execution_count": null,
      "outputs": []
    },
    {
      "cell_type": "code",
      "metadata": {
        "colab": {
          "base_uri": "https://localhost:8080/",
          "height": 364,
          "referenced_widgets": [
            "4e4038b110fe47119d77f2bcea7ec8b4",
            "bd7a6767feee478bbba836801cb6d6fb",
            "d00f5f987d5a41bea4a0b343650f4c72",
            "f93b5ff517d14c758844b24866d75c83",
            "2e224393b5b247ae8bf84bd55bd96e4e",
            "7b701385831d41a0850d26a43de518ae",
            "2a728dd015c741f0872f5aa993bc4b28"
          ]
        },
        "id": "A-8A50z4kwkl",
        "outputId": "8d4d3fb4-4d53-41d3-e96d-9d45876af671"
      },
      "source": [
        "w = interactive(ActivationGates, V=(-100.0,10.0))\n",
        "display(w)"
      ],
      "execution_count": null,
      "outputs": [
        {
          "output_type": "display_data",
          "data": {
            "text/plain": [
              "interactive(children=(FloatSlider(value=-45.0, description='V', max=10.0, min=-100.0), Output()), _dom_classes…"
            ],
            "application/vnd.jupyter.widget-view+json": {
              "version_major": 2,
              "version_minor": 0,
              "model_id": "4e4038b110fe47119d77f2bcea7ec8b4"
            }
          },
          "metadata": {}
        }
      ]
    },
    {
      "cell_type": "markdown",
      "metadata": {
        "id": "w86XgppQ8aqx"
      },
      "source": [
        "#### Comprehension Questions:\n"
      ]
    },
    {
      "cell_type": "markdown",
      "metadata": {
        "id": "beTO3cf6mUsf"
      },
      "source": [
        "Experiment with the slider above and reason about the following questions:\n",
        "\n",
        "1. At the initial stage, why does h grow and m does not?\n",
        "2. Why do m and h have opposite behaviors after the membrane potential step?\n",
        "3. Which variable takes the longest to reach steady state?"
      ]
    },
    {
      "cell_type": "markdown",
      "metadata": {
        "id": "RxyjJCJnny2p"
      },
      "source": [
        "## The Sodium Current\n"
      ]
    },
    {
      "cell_type": "markdown",
      "metadata": {
        "id": "hD0bp92E88aS"
      },
      "source": [
        "Now we have all the ingredients to understand how (1) gating variables, (2) conductance and (3) driving force becomes a **current**. We begin our exploration with the Sodium current.\n",
        "\n",
        "For the Sodium current to flow into the cell, three factors must obtain:\n",
        "1. There must be a driving force for the current to enter the cell $(V-E_{Na}) \\neq 0$;\n",
        "2. The Sodium channels must be open (m>0);\n",
        "3. The Sodium innactivation gate must be letting ions through(h>0).\n",
        "\n",
        "The current due to Sodium is then determined by the driving force for the ion, **times** the maximum conductance for the channel (representing the total number of available channels times the conductance of a single channel) **times** the proportion of channels open **times** how many channels are _not innactive_.\n",
        "\n",
        "For Sodium, this is the equation that determines the current that flows in the cell:\n",
        "\n",
        "------------\n",
        "\n",
        "$I_{Na} = \\bar{g}_{Na} m ^3 h (V-E_{Na})$\n",
        "\n",
        "------------\n",
        "\n",
        "Note the exponent at $m$. Its existence is related to the number of independent subunits that have to be open for the ion channel to let ion channels through."
      ]
    },
    {
      "cell_type": "markdown",
      "metadata": {
        "id": "vixMjhGVdGJh"
      },
      "source": [
        "### Simulating a Membrane with the Sodium Current"
      ]
    },
    {
      "cell_type": "markdown",
      "metadata": {
        "id": "Q9IqAWQkKuvT"
      },
      "source": [
        "What would happen to the membrane potential if there were **only** Sodium channels in the membrane? Let us assume that, for the moment:\n",
        "- No leak conductance.\n",
        "- No other channels.\n"
      ]
    },
    {
      "cell_type": "code",
      "metadata": {
        "id": "LSmZZqgzf0PL"
      },
      "source": [
        "start_scope()\n",
        "\n",
        "# Reversal Potentials\n",
        "E_Na = -30*mV\n",
        "\n",
        "# Conductances\n",
        "g_Na =  120 * mS / cm**2\n",
        "\n",
        "# Membrane Capacitance\n",
        "Cm = 1 * uF / cm**2\n",
        "\n",
        "# define our differential equations\n",
        "eqs_V ='''\n",
        "dv/dt = (I - I_Na)/Cm : volt\n",
        "'''\n",
        "\n",
        "eqs_I = '''\n",
        "I_Na = g_Na*(m*m*m)*h*(v-E_Na) : amp / meter ** 2\n",
        "I : amp / meter ** 2\n",
        "'''\n",
        "\n",
        "eqs_activation= '''\n",
        "m_inf =  1/(1+exp((-40*mV -v)/(9*mV))) : 1\n",
        "h_inf =  1/(1+exp((-68*mV -v)/(-7*mV))) : 1\n",
        "taum  =  .04*ms + .46*exp(-(-38*mV-v)**2/(30*mV)**2) *ms : second\n",
        "tauh  =  1.2*ms + 7.4*exp(-(-67*mV-v)**2/(20*mV)**2) *ms : second\n",
        "dm/dt = (m_inf - m)/taum : 1\n",
        "dh/dt = (h_inf - h)/tauh : 1\n",
        "'''\n",
        "\n",
        "eqs = eqs_V\n",
        "eqs += eqs_I\n",
        "eqs += eqs_activation\n",
        "\n",
        "G = NeuronGroup(1,eqs, method='euler', dt=0.001*ms)\n",
        "\n",
        "M = StateMonitor(G, ['v','m','h'], record=0)\n",
        "\n",
        "## Run the simulation starting from a hyperpolarized membrane.\n",
        "G.v = -70 * mV\n",
        "# start with deinactivated (active) channels\n",
        "G.h = 1\n",
        "# run for 100ms\n",
        "run(100*ms)\n",
        "\n",
        "# briefly change the potential to a very hyperpolarized potential\n",
        "G.v = 60 * mV\n",
        "run(100*ms)\n"
      ],
      "execution_count": null,
      "outputs": []
    },
    {
      "cell_type": "code",
      "metadata": {
        "id": "-S7u_v53k11H",
        "colab": {
          "base_uri": "https://localhost:8080/",
          "height": 400
        },
        "outputId": "5796119b-62e0-41dd-f83b-599af3c49585"
      },
      "source": [
        "# Plot results\n",
        "\n",
        "# prepare a grid to plot graphs  (like function subplot in matlab)\n",
        "grid = plt.GridSpec(5, 1, wspace=0.4, hspace=1)\n",
        "\n",
        "# create figure\n",
        "figure(figsize=(10, 10), dpi= 80, facecolor='w', edgecolor='k')\n",
        "\n",
        "# in the first viewport plot membrane potential vs time\n",
        "subplot(grid[:2, 0])\n",
        "plot(M.t/ms, M.v[0]/mV, label='v')\n",
        "xlabel('Time (ms)')\n",
        "ylabel('V (mV)')\n",
        "legend();\n",
        "\n",
        "# plot the activation variables\n",
        "subplot(grid[2, 0])\n",
        "plot(M.t/ms, M.h[0], label='h')\n",
        "plot(M.t/ms, M.m[0], label='m')\n",
        "xlabel('Time (ms)')\n",
        "ylabel('Gating variables')\n",
        "legend();\n",
        "\n",
        "show()"
      ],
      "execution_count": null,
      "outputs": [
        {
          "output_type": "display_data",
          "data": {
            "text/plain": [
              "<Figure size 800x800 with 2 Axes>"
            ],
            "image/png": "[encoded data removed]"
          },
          "metadata": {}
        }
      ]
    },
    {
      "cell_type": "markdown",
      "metadata": {
        "id": "pySR6R5dtizG"
      },
      "source": [
        "#### Questions:\n",
        "1. Describe what you see making reference to the code above.\n",
        "2. Why does the blue curve goes down slowly and the orange curve fast at the start?\n",
        "3. Why does the membrane potential rise fast at about 25ms? What happened at 100ms?\n",
        "4. At the end of the experiment is the channel (dein)active or inactive? Which state variable represents that?\n",
        "5. At the end of the experiment is the channel open or closed? Which state variable represents that?\n",
        "6. Experiment with the voltage. What do you observe?\n"
      ]
    },
    {
      "cell_type": "markdown",
      "metadata": {
        "id": "tl7T8R7JAAH4"
      },
      "source": [
        "#### Answers:"
      ]
    },
    {
      "cell_type": "markdown",
      "metadata": {
        "id": "7YlBhpeAl0ZH"
      },
      "source": [
        "1. We are measuring the value of the activation variables while we 'clamp' the voltage to different values.\n",
        "1. The state of the gating variables is membrane potential dependent. When we raise the membrane potential, Sodium channels open (m tends to 1) and inactivate (h tends to 0).\n",
        "1. A fast flick of the membrane potential (25ms)leads the channels to close (fast) and de-inactivate (more slowly). Another flick of the membrane potential brings it to the region of sodium regenerative activation, leading to a spike like response. Note that the membrane potential  settles on one of two possible potentials, either a depolarized one (first 100ms) or a hyperpolarized one (100-200ms).\n",
        "5. Active, h = 1 .\n",
        "6. Closed, m = 0."
      ]
    },
    {
      "cell_type": "markdown",
      "metadata": {
        "id": "ZBREeA1TdTm8"
      },
      "source": [
        "## The Potassium Current"
      ]
    },
    {
      "cell_type": "markdown",
      "metadata": {
        "id": "_oEZ7pv69Imx"
      },
      "source": [
        "\n",
        "The potassium **current** can be expressed equivalently to the Sodium Current, by the following equation:\n",
        "\n",
        "----\n",
        "\n",
        "$$ I_k = \\bar{g}_{K}n^4(V-E_K)$$\n",
        "\n",
        "----\n",
        "\n",
        "Where $(V-E_K)$ is the Potassium driving force (the momentary membrane potential minus the potassium reversal potential),  $\\bar{g}_{K}$ is the maxiumum conductance of potassium ions. The $n$ is the activation variable. Just like $m$ and $h$ variables, the $n$ activation variable follows the same kind of dynamics as in Sodium, where $n$ tends to its **steady state**.\n",
        "\n",
        "----\n",
        "$$ \\frac{dn}{dt} = \\dot{n} = \\frac{n_{\\infty}(V) - n}{\\tau_n}\n",
        "$$\n",
        "\n",
        "> Just like the other activation variables $n_{\\infty}(V)$ has a sigmoidal shape and $\\tau_n(V)$ has a gaussian shape.\n",
        "\n",
        "---\n",
        "\n",
        "We can now inspect the activation gates and add these equations to the model.\n"
      ]
    },
    {
      "cell_type": "markdown",
      "metadata": {
        "id": "X8cuqE_25tCl"
      },
      "source": [
        "### Coding Exercise: All Activation Functions\n",
        "\n",
        "Before we go into adding the Potassium (K) current to our membrane, it is illustrative to compare all the activation variables and their respective time constants. Using your sigmoid and tau functions above, plot all the activation variables alongside in the same panel. In another figure or panel do the same for the time constants."
      ]
    },
    {
      "cell_type": "markdown",
      "metadata": {
        "id": "IR9nLcC8_rK3"
      },
      "source": [
        "| gating function | $V_{\\frac{1}{2}}$ | k | time constant ($\\tau_{gate}$) | $V_{max}$ | $\\sigma$ | $C_{base}$ | $C_{amp}$ |\n",
        "|-|-|-|-|-|-|-|-|\n",
        "| $m_\\infty(V)$ | -40 | 9 |$\\tau_m(V)$|-38     |30| 0.04 |0.46|\n",
        "| $h_\\infty(V)$ | -62 | -7 |$\\tau_h(V)$| -67   |20| 1.2  |7.4|\n",
        "| $n_\\infty(V)$ | -53 | 15 |$\\tau_n(V)$|-79 |50|1.1  |4.7|\n"
      ]
    },
    {
      "cell_type": "code",
      "metadata": {
        "id": "yC6rdTHY5sHe",
        "colab": {
          "base_uri": "https://localhost:8080/",
          "height": 492
        },
        "outputId": "0368e32b-cf5f-4be0-da35-051d1d375fce"
      },
      "source": [
        "# your code goes here\n",
        "def sigmoid(v_at_half, k, V):\n",
        "  return (1./(1.+np.exp((v_at_half-V)/k)))\n",
        "\n",
        "def tau(C_base, C_amp, V_max, sig, V):\n",
        "  return C_base + C_amp*np.exp(-(V_max-V)**2/sig**2)\n",
        "\n",
        "V_range = np.arange(-105.0, 35.0, 1.)\n",
        "\n",
        "m_inf =  sigmoid(-40,  9, V_range)\n",
        "h_inf =  sigmoid(-62, -7, V_range)\n",
        "n_inf =  sigmoid(-53, 15, V_range)\n",
        "\n",
        "tau_m = tau( 0.04, 0.46, -38, 30, V_range)\n",
        "tau_h = tau( 1.2 , 7.4, -67, 20, V_range)\n",
        "tau_n = tau( 1.1 , 4.7, -79, 50, V_range)\n",
        "\n",
        "plt.figure(1, figsize=(10, 4), dpi= 150)\n",
        "plt.subplot(1,2,1)\n",
        "plt.plot(V_range, m_inf, label= 'm')\n",
        "plt.plot(V_range, h_inf, label= 'h')\n",
        "plt.plot(V_range, n_inf, label= 'n')\n",
        "\n",
        "plt.xlabel('$V $ (mV)')\n",
        "plt.ylabel('$x_{\\infty}(V)$')\n",
        "legend();\n",
        "\n",
        "\n",
        "plt.subplot(1,2,2)\n",
        "\n",
        "plt.plot(V_range, tau_m, label= 'm')\n",
        "plt.plot(V_range, tau_h, label= 'h')\n",
        "plt.plot(V_range, tau_n, label= 'n')\n",
        "plt.xlabel('$V $ (mV)')\n",
        "plt.ylabel('$tau_x(V)$  (ms)')\n",
        "legend();"
      ],
      "execution_count": null,
      "outputs": [
        {
          "output_type": "display_data",
          "data": {
            "text/plain": [
              "<Figure size 1500x600 with 2 Axes>"
            ],
            "image/png": "[encoded data removed]"
          },
          "metadata": {
            "needs_background": "light"
          }
        }
      ]
    },
    {
      "cell_type": "markdown",
      "metadata": {
        "id": "t2KYsxINaQEO"
      },
      "source": [
        "# 3. The Hodgkin Huxley Model\n"
      ]
    },
    {
      "cell_type": "markdown",
      "metadata": {
        "id": "DcOxqq27HFIm"
      },
      "source": [
        "### The Hodgkin Huxley Model"
      ]
    },
    {
      "cell_type": "markdown",
      "metadata": {
        "id": "Azy_X383jhQr"
      },
      "source": [
        "Embodying the facts above is the **Hodgkin Huxley model** —a **single compartment model** of the giant squid axon — where the **action potential** (or spike) is a due to **voltage mediated** **interactions between multiple ion channels** which can lead current out or in the cell, that is, had time and voltage dependence, i.e., **active conductances**.\n",
        "\n",
        "The  **HH is a four-dimensional model** where the momentary membrane potential ($V_m$) depends on the **state variables** (m, h, n) describing the different states of the ion channels (e.g., activation and inactivation variables). The evolution of the state variables are represented by differential equations."
      ]
    },
    {
      "cell_type": "markdown",
      "metadata": {
        "id": "f7jOgg_pA2x3"
      },
      "source": [
        "Here we summarize the mechanisms in sections 1 and 2 above. According to the Kirchhoff’s law, the total electrical current $I$ flowing across the membrane may be divided into the capacitive current $I_C$, plus all the ionic currents. We considered three types of ion channels in this model: the sodium channel ($I_{Na}$), the potassium channel ($I_{K}$), and unspecified passive leakage  ($I_{L}$), including Chloride channels and other anions.\n",
        "\n",
        "We arrive at the final equation defining the model (also called the 'master equation'):\n",
        "\n",
        "----\n",
        "\n",
        "$$\n",
        "I = I_C + I_{Na}+ I_K + I_{leak}\n",
        "$$\n",
        "\n",
        "\n",
        "with\n",
        "\n",
        "$$\n",
        "I_C = C_m \\dot{V}\n",
        "$$\n",
        "\n",
        "and where $C_m$ is the membrane capacitance and $\\dot{V}$ is the change of voltage across the membrane as a function of time. Therefore, we can express the change of voltage accross the membrane as:\n",
        "\n",
        "----\n",
        "\n",
        "$$\n",
        "C_m \\dot{V} = I - I_{Na}- I_K - I_{leak}\n",
        "$$\n",
        "\n",
        "or more explicitly:\n",
        "\n",
        "$$\n",
        "  \\dot{V} = \\frac{I - \\bar{g}_{Na} m^3 h (V -E_{Na}) - \\bar{g}_{K} n^4 (V - E_k) - g_{leak} (V - E_{leak})} {C_m}\n",
        "$$\n",
        "\n",
        "----\n",
        "\n",
        "Where we also compute $\\dot{m}$, $\\dot{n}$ and $\\dot{h}$ via all the auxiliary equations for $\\tau$ and the steady states."
      ]
    },
    {
      "cell_type": "markdown",
      "metadata": {
        "id": "o2lG9Gz1CmYA"
      },
      "source": [
        "## Coding Exercise: Complete The Hodgkin Huxley Model"
      ]
    },
    {
      "cell_type": "markdown",
      "metadata": {
        "id": "mdEH4WOzCtaJ"
      },
      "source": [
        "Now put all the pieces together:\n",
        "\n",
        "1. The passive components of the membrane (capacitance and leak)\n",
        "2. The Sodium current (conductance, activations, driving force)\n",
        "3. The Potassium current (conductance, activations, driving force)\n"
      ]
    },
    {
      "cell_type": "markdown",
      "metadata": {
        "id": "Oo60tvfbaT-0"
      },
      "source": [
        "Below we give you the equations for the dynamics of the potassium current.  \n",
        "\n",
        "----\n",
        "> $$ I_k = \\bar{g}_K n^4 (V - E_k)$$\n",
        "> $$ \\frac{dn}{dt} = \\dot{n} = \\frac{n_{\\infty}(V) - n}{\\tau_n} $$\n",
        "> $$\\tau_n(V) = 1.1 + 4.7  e^\\frac{-(-79mV-V)}{(50mV)^2}$$\n",
        "> $$ n_\\infty(V) = \\frac{1}{1+e^{(-53mV-V)/15mV}} $$\n",
        "\n",
        "with\n",
        "\n",
        "> $$ \\bar{g}_K = 36 \\mu /cm^2 S$$\n",
        "> $$ E_K = -77 mV$$\n",
        "\n",
        "----\n",
        "\n"
      ]
    },
    {
      "cell_type": "code",
      "metadata": {
        "id": "dOi-SHjpeowv",
        "colab": {
          "base_uri": "https://localhost:8080/",
          "height": 237
        },
        "outputId": "01a04001-43b8-4db9-fc05-8d3b483c0253"
      },
      "source": [
        " start_scope()\n",
        "\n",
        "# Reversal Potentials\n",
        "E_leak = -54.4 * mV\n",
        "E_Na   =  55   * mV\n",
        "E_K    = -77   * mV\n",
        "\n",
        "# Conductances\n",
        "## attention to UNITS! For instance uS << mS\n",
        "g_leak =   300 * uS / cm ** 2\n",
        "g_Na   = 120.0 * mS / cm ** 2\n",
        "g_K    =  36.0 * mS / cm ** 2\n",
        "\n",
        "# Membrane Capacitance\n",
        "Cm = 1 * uF / cm ** 2\n",
        "\n",
        "# here we define our master differential equation. Note that I_k is already here.\n",
        "eqs_V ='''\n",
        "dv/dt = (I -I_leak - I_Na - I_K )/Cm : volt\n",
        "'''\n",
        "\n",
        "\n",
        "# here we add a definition for the potassium current I_K\n",
        "eqs_I = '''\n",
        "I_leak = g_leak * (v - E_leak)   : amp / meter ** 2\n",
        "I_Na = g_Na*(m*m*m)*h*(v - E_Na) : amp / meter ** 2\n",
        "I_K = g_K*(n*n*n*n)*(v - E_K)    : amp / meter ** 2\n",
        "I                                : amp / meter ** 2\n",
        "'''\n",
        "\n",
        "\n",
        "# here you add the equations defining the potassium activation gates\n",
        "eqs_activation= '''\n",
        "n_inf =  1/(1+exp((-53*mV -v)/(15*mV))) : 1\n",
        "m_inf =  1/(1+exp((-40*mV -v)/(9*mV)))  : 1\n",
        "h_inf =  1/(1+exp((-62*mV -v)/(-7*mV))) : 1\n",
        "taum  =  .04*ms + .46*exp(-(-38*mV-v)**2/(30*mV)**2) *ms : second\n",
        "tauh  =  1.2*ms + 7.4*exp(-(-67*mV-v)**2/(20*mV)**2) *ms : second\n",
        "taun  =  1.1*ms + 4.7*exp(-(-79*mV-v)**2/(50*mV)**2) *ms : second\n",
        "dm/dt = (m_inf - m)/taum : 1\n",
        "dh/dt = (h_inf - h)/tauh : 1\n",
        "dn/dt = (n_inf - n)/taun : 1\n",
        "'''\n",
        "\n",
        "\n",
        "# notice that we simply \"concatenate\" the strings with all equations\n",
        "# ( with the operator+=).\n",
        "eqs = eqs_V\n",
        "eqs += eqs_I\n",
        "eqs += eqs_activation\n",
        "\n",
        "G = NeuronGroup(1,eqs, 'euler', dt=0.025*ms)\n",
        "\n",
        "M = StateMonitor(G, ['v','m','h','n', 'I'], record=0)\n",
        "\n",
        "########################## Initialize Variables at Resting State\n",
        "\n",
        "## Run an experiment\n",
        "\n",
        "# resting\n",
        "G.I = 0 * uA * cm ** -2\n",
        "run(50*ms)\n",
        "\n",
        "# hyperpolarizing injection\n",
        "G.I = 25. * uA * cm ** -2\n",
        "run( .5 *ms)\n",
        "\n",
        "# relaxing\n",
        "G.I = 0 * uA * cm ** -2\n",
        "run(200*ms)\n",
        "\n"
      ],
      "execution_count": null,
      "outputs": [
        {
          "output_type": "error",
          "ename": "NameError",
          "evalue": "ignored",
          "traceback": [
            "\u001b[0;31m---------------------------------------------------------------------------\u001b[0m",
            "\u001b[0;31mNameError\u001b[0m                                 Traceback (most recent call last)",
            "\u001b[0;32m<ipython-input-1-153e69454198>\u001b[0m in \u001b[0;36m<module>\u001b[0;34m()\u001b[0m\n\u001b[0;32m----> 1\u001b[0;31m \u001b[0mstart_scope\u001b[0m\u001b[0;34m(\u001b[0m\u001b[0;34m)\u001b[0m\u001b[0;34m\u001b[0m\u001b[0;34m\u001b[0m\u001b[0m\n\u001b[0m\u001b[1;32m      2\u001b[0m \u001b[0;34m\u001b[0m\u001b[0m\n\u001b[1;32m      3\u001b[0m \u001b[0;31m# Reversal Potentials\u001b[0m\u001b[0;34m\u001b[0m\u001b[0;34m\u001b[0m\u001b[0;34m\u001b[0m\u001b[0m\n\u001b[1;32m      4\u001b[0m \u001b[0mE_leak\u001b[0m \u001b[0;34m=\u001b[0m \u001b[0;34m-\u001b[0m\u001b[0;36m54.4\u001b[0m \u001b[0;34m*\u001b[0m \u001b[0mmV\u001b[0m\u001b[0;34m\u001b[0m\u001b[0;34m\u001b[0m\u001b[0m\n\u001b[1;32m      5\u001b[0m \u001b[0mE_Na\u001b[0m   \u001b[0;34m=\u001b[0m  \u001b[0;36m55\u001b[0m   \u001b[0;34m*\u001b[0m \u001b[0mmV\u001b[0m\u001b[0;34m\u001b[0m\u001b[0;34m\u001b[0m\u001b[0m\n",
            "\u001b[0;31mNameError\u001b[0m: name 'start_scope' is not defined"
          ]
        }
      ]
    },
    {
      "cell_type": "code",
      "metadata": {
        "id": "x9_FOyseaAYP",
        "colab": {
          "base_uri": "https://localhost:8080/",
          "height": 475
        },
        "outputId": "1eedb5f9-1fbf-4cff-98b3-eb95f2eb842d"
      },
      "source": [
        "# plot it\n",
        "plt.figure(1, figsize=[7,5], dpi=100)\n",
        "\n",
        "plt.subplot(3,1,1)\n",
        "plt.plot(M.t/ms, M.v[0]/mV)\n",
        "plt.ylabel('V (mV)')\n",
        "\n",
        "plt.subplot(3,1,2)\n",
        "plt.plot(M.t/ms, M.m[0])\n",
        "plt.plot(M.t/ms, M.h[0])\n",
        "plt.plot(M.t/ms, M.n[0])\n",
        "plt.ylabel('activations')\n",
        "plt.legend(['m','h','n']);\n",
        "\n",
        "plt.subplot(3,1,3)\n",
        "plt.plot(M.t/ms, M.I[0])\n",
        "plt.xlabel('Time (ms)')\n",
        "plt.ylabel('current (mA/cm^2)')"
      ],
      "execution_count": null,
      "outputs": [
        {
          "output_type": "execute_result",
          "data": {
            "text/plain": [
              "Text(0, 0.5, 'current (mA/cm^2)')"
            ]
          },
          "metadata": {},
          "execution_count": 28
        },
        {
          "output_type": "display_data",
          "data": {
            "text/plain": [
              "<Figure size 700x500 with 3 Axes>"
            ],
            "image/png": "[encoded data removed]"
          },
          "metadata": {
            "needs_background": "light"
          }
        }
      ]
    },
    {
      "cell_type": "markdown",
      "metadata": {
        "id": "vFTUBIoycbSd"
      },
      "source": [
        "### Questions:\n",
        "1. What do we observe in the initial 10ms of the simulation? Why?\n",
        "2. What happens at 50ms?\n"
      ]
    },
    {
      "cell_type": "markdown",
      "metadata": {
        "id": "KDWVqNwdfwVK"
      },
      "source": [
        "#### Answers:"
      ]
    },
    {
      "cell_type": "markdown",
      "metadata": {
        "id": "sgzEwN_b8frD"
      },
      "source": [
        "1.  When the model is initialized, the activation variables are not in equilibrium, and they will tend to produce dynamics and oscillations until they relax into an equilibrium state. This is because we must select the initial value of the state variables (V,m,n,h)\n",
        "2. An action potential! All about it in the continuation of this project."
      ]
    },
    {
      "cell_type": "markdown",
      "metadata": {
        "id": "FTMkCMAecbSc"
      },
      "source": [
        "## Summary:"
      ]
    },
    {
      "cell_type": "markdown",
      "metadata": {
        "id": "-TvzDBkhcbSd"
      },
      "source": [
        "After installing sodium and potassium channels we effectively assembled the entire Hodgkin Huxley model of the action potential. These are the principal mechanisms in operation:\n",
        "\n",
        "- Sodium channel induces depolarization via positive feedback (m grows with V)\n",
        "- Leak brings the cell back to its resting potential (V-Vrest)\n",
        "- Positive membrane potential induces the inactivation of Sodium (h tends to 0)\n",
        "- Potassium induces hyperpolarization after the spike (n tends to 1)\n",
        "\n",
        "These are tempered by the capacitance, which defines how fast the ionic mechanisms contribute to the effective membrane potential.\n",
        "\n"
      ]
    },
    {
      "cell_type": "markdown",
      "metadata": {
        "id": "d5f4p4SU8OQK"
      },
      "source": []
    },
    {
      "cell_type": "markdown",
      "metadata": {
        "id": "GB_uWJumdNbX"
      },
      "source": [
        "# To Be Continued ...\n",
        "\n",
        "[In Part II of this notebook](https://colab.research.google.com/drive/15W961ErD0v6PIwA0raaz-uTtAGLh6-Md?usp=sharing), we will discuss in more detail how the gating variables interact at the level of the membrane to produce spiking."
      ]
    },
    {
      "cell_type": "markdown",
      "metadata": {
        "id": "VdW3mCLKVH2b"
      },
      "source": [
        "# Review Questions"
      ]
    },
    {
      "cell_type": "markdown",
      "metadata": {
        "id": "A8vouIS16zcL"
      },
      "source": [
        "## Passive Membrane Properties\n",
        "- What is 'ion channel permeability'?\n",
        "- How is capacitance like friction?\n",
        "- How is the driving force like a spring?\n",
        "- Explain conductance in your own words and why it is different for different ion types.\n",
        "\n",
        "## Active Channels and Gating variables\n",
        "- What are gating variables? What gating variables exist in the typical sodium channel?\n",
        "- When is h at its maximum, at small or large voltages?\n",
        "- When is m at its maximum, at small or large voltages?\n",
        "- Does the potassium channel inactivate?\n",
        "- What is a common value of the resting membrane potential?\n",
        "- What are the ions with high concentration in the neuron?\n",
        "- What is the unit of g * V_rest?\n",
        "- [To dive deeper, take this online quiz](https://www.physiologyweb.com/daily_quiz/physiology_quiz_QBTakR5k4CTyBTLXoKGaSzdZ1bz2N7cq_neuronal_action_potential.html\n",
        ")\n"
      ]
    },
    {
      "cell_type": "markdown",
      "metadata": {
        "id": "MMKP7eKbMB7m"
      },
      "source": [
        "# Primary Reference"
      ]
    },
    {
      "cell_type": "markdown",
      "metadata": {
        "id": "Jme1X8T-MCc1"
      },
      "source": [
        "Izhikevich, Dynamical Systems in Neuroscience, Section 2.3.1"
      ]
    },
    {
      "cell_type": "markdown",
      "metadata": {
        "id": "k9aJkXljN8hm"
      },
      "source": [
        "\n",
        "# Online Resources"
      ]
    },
    {
      "cell_type": "markdown",
      "metadata": {
        "id": "r01JnlUJZPR8"
      },
      "source": [
        "**MIT Courseware**\n",
        "[Neurons as electrical circuits](https://www.youtube.com/watch?v=3GC721pNRLE&list=PLB4xSXXSguaFEi9_rweNu27YIhPiWOKCU&index=25&t=2619s)\n",
        "\n",
        "**Physiology Web Resources**\n",
        "- [Resting membrane potential](https://www.physiologyweb.com/lecture_notes/resting_membrane_potential/resting_membrane_potential.html)\n",
        "- [Action Potential](https://www.physiologyweb.com/lecture_notes/neuronal_action_potential/neuronal_action_potential.html)\n",
        "- [Bilipid Layer Permeability](https://www.physiologyweb.com/lecture_notes/biological_membranes/lipid_bilayer_permeability.html)\n",
        "- [Derivation of the Nernst Equation](https://www.physiologyweb.com/lecture_notes/resting_membrane_potential/derivation_of_the_nernst_equation.html)\n",
        "\n",
        "**Nernst Membrane Potential Simulator**\n",
        "[Nernst Simulator + Resting Membrane Potential](https://www.azps.life/s/ngswin.zip) and believe it or not, [there is also an iOS app for that](https://apps.apple.com/us/app/nernst-goldman-equation-simulator/id1022504095) and the standalone flash version also available [here](https://www.azps.life/home/2016/4/28/teaching-spotlight-nernstgoldman-simulator)\n",
        "\n"
      ]
    },
    {
      "cell_type": "markdown",
      "metadata": {
        "id": "r-rG3CjMCHe7"
      },
      "source": [
        "#License\n",
        "\n",
        "<a rel=\"license\" href=\"http://creativecommons.org/licenses/by/4.0/\"><img alt=\"Creative Commons License\" style=\"border-width:0\" src=\"https://i.creativecommons.org/l/by/4.0/88x31.png\" /></a><br />This work is licensed under a <a rel=\"license\" href=\"http://creativecommons.org/licenses/by/4.0/\">Creative Commons Attribution 4.0 International License</a>.\n",
        "\n",
        "Mario Negrello, Daphne Cornelise, Elias Santoro. Reviewing and testing Su Saka and Natia Shamuja and many students. Figure sources: Geometry of Bursting, Eugene Izhikevich (2007). Saltatory conductance gif by By Dr. Jana - http://docjana.com/saltatory-conduction/\n"
      ]
    },
    {
      "cell_type": "code",
      "metadata": {
        "id": "AIvwfeATjMRp"
      },
      "source": [],
      "execution_count": null,
      "outputs": []
    }
  ]
}